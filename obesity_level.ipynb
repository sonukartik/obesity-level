{
 "cells": [
  {
   "cell_type": "code",
   "execution_count": 1,
   "id": "5a36a960",
   "metadata": {},
   "outputs": [],
   "source": [
    "import numpy as np\n",
    "import pandas as pd\n",
    "import seaborn as sns\n",
    "import matplotlib.pyplot as plt"
   ]
  },
  {
   "cell_type": "code",
   "execution_count": 2,
   "id": "ac789c43",
   "metadata": {},
   "outputs": [],
   "source": [
    "df=pd.read_csv('C:/r datasets/ObesityDataSet_raw_and_data_sinthetic.csv')"
   ]
  },
  {
   "cell_type": "code",
   "execution_count": 3,
   "id": "6c2fca5e",
   "metadata": {},
   "outputs": [
    {
     "data": {
      "text/plain": [
       "(2111, 17)"
      ]
     },
     "execution_count": 3,
     "metadata": {},
     "output_type": "execute_result"
    }
   ],
   "source": [
    "df.shape"
   ]
  },
  {
   "cell_type": "code",
   "execution_count": 4,
   "id": "ff917ef2",
   "metadata": {},
   "outputs": [
    {
     "data": {
      "text/html": [
       "<div>\n",
       "<style scoped>\n",
       "    .dataframe tbody tr th:only-of-type {\n",
       "        vertical-align: middle;\n",
       "    }\n",
       "\n",
       "    .dataframe tbody tr th {\n",
       "        vertical-align: top;\n",
       "    }\n",
       "\n",
       "    .dataframe thead th {\n",
       "        text-align: right;\n",
       "    }\n",
       "</style>\n",
       "<table border=\"1\" class=\"dataframe\">\n",
       "  <thead>\n",
       "    <tr style=\"text-align: right;\">\n",
       "      <th></th>\n",
       "      <th>Age</th>\n",
       "      <th>Height</th>\n",
       "      <th>Weight</th>\n",
       "      <th>FCVC</th>\n",
       "      <th>NCP</th>\n",
       "      <th>CH2O</th>\n",
       "      <th>FAF</th>\n",
       "      <th>TUE</th>\n",
       "    </tr>\n",
       "  </thead>\n",
       "  <tbody>\n",
       "    <tr>\n",
       "      <th>count</th>\n",
       "      <td>2111.000000</td>\n",
       "      <td>2111.000000</td>\n",
       "      <td>2111.000000</td>\n",
       "      <td>2111.000000</td>\n",
       "      <td>2111.000000</td>\n",
       "      <td>2111.000000</td>\n",
       "      <td>2111.000000</td>\n",
       "      <td>2111.000000</td>\n",
       "    </tr>\n",
       "    <tr>\n",
       "      <th>mean</th>\n",
       "      <td>24.312600</td>\n",
       "      <td>1.701677</td>\n",
       "      <td>86.586058</td>\n",
       "      <td>2.419043</td>\n",
       "      <td>2.685628</td>\n",
       "      <td>2.008011</td>\n",
       "      <td>1.010298</td>\n",
       "      <td>0.657866</td>\n",
       "    </tr>\n",
       "    <tr>\n",
       "      <th>std</th>\n",
       "      <td>6.345968</td>\n",
       "      <td>0.093305</td>\n",
       "      <td>26.191172</td>\n",
       "      <td>0.533927</td>\n",
       "      <td>0.778039</td>\n",
       "      <td>0.612953</td>\n",
       "      <td>0.850592</td>\n",
       "      <td>0.608927</td>\n",
       "    </tr>\n",
       "    <tr>\n",
       "      <th>min</th>\n",
       "      <td>14.000000</td>\n",
       "      <td>1.450000</td>\n",
       "      <td>39.000000</td>\n",
       "      <td>1.000000</td>\n",
       "      <td>1.000000</td>\n",
       "      <td>1.000000</td>\n",
       "      <td>0.000000</td>\n",
       "      <td>0.000000</td>\n",
       "    </tr>\n",
       "    <tr>\n",
       "      <th>25%</th>\n",
       "      <td>19.947192</td>\n",
       "      <td>1.630000</td>\n",
       "      <td>65.473343</td>\n",
       "      <td>2.000000</td>\n",
       "      <td>2.658738</td>\n",
       "      <td>1.584812</td>\n",
       "      <td>0.124505</td>\n",
       "      <td>0.000000</td>\n",
       "    </tr>\n",
       "    <tr>\n",
       "      <th>50%</th>\n",
       "      <td>22.777890</td>\n",
       "      <td>1.700499</td>\n",
       "      <td>83.000000</td>\n",
       "      <td>2.385502</td>\n",
       "      <td>3.000000</td>\n",
       "      <td>2.000000</td>\n",
       "      <td>1.000000</td>\n",
       "      <td>0.625350</td>\n",
       "    </tr>\n",
       "    <tr>\n",
       "      <th>75%</th>\n",
       "      <td>26.000000</td>\n",
       "      <td>1.768464</td>\n",
       "      <td>107.430682</td>\n",
       "      <td>3.000000</td>\n",
       "      <td>3.000000</td>\n",
       "      <td>2.477420</td>\n",
       "      <td>1.666678</td>\n",
       "      <td>1.000000</td>\n",
       "    </tr>\n",
       "    <tr>\n",
       "      <th>max</th>\n",
       "      <td>61.000000</td>\n",
       "      <td>1.980000</td>\n",
       "      <td>173.000000</td>\n",
       "      <td>3.000000</td>\n",
       "      <td>4.000000</td>\n",
       "      <td>3.000000</td>\n",
       "      <td>3.000000</td>\n",
       "      <td>2.000000</td>\n",
       "    </tr>\n",
       "  </tbody>\n",
       "</table>\n",
       "</div>"
      ],
      "text/plain": [
       "               Age       Height       Weight         FCVC          NCP  \\\n",
       "count  2111.000000  2111.000000  2111.000000  2111.000000  2111.000000   \n",
       "mean     24.312600     1.701677    86.586058     2.419043     2.685628   \n",
       "std       6.345968     0.093305    26.191172     0.533927     0.778039   \n",
       "min      14.000000     1.450000    39.000000     1.000000     1.000000   \n",
       "25%      19.947192     1.630000    65.473343     2.000000     2.658738   \n",
       "50%      22.777890     1.700499    83.000000     2.385502     3.000000   \n",
       "75%      26.000000     1.768464   107.430682     3.000000     3.000000   \n",
       "max      61.000000     1.980000   173.000000     3.000000     4.000000   \n",
       "\n",
       "              CH2O          FAF          TUE  \n",
       "count  2111.000000  2111.000000  2111.000000  \n",
       "mean      2.008011     1.010298     0.657866  \n",
       "std       0.612953     0.850592     0.608927  \n",
       "min       1.000000     0.000000     0.000000  \n",
       "25%       1.584812     0.124505     0.000000  \n",
       "50%       2.000000     1.000000     0.625350  \n",
       "75%       2.477420     1.666678     1.000000  \n",
       "max       3.000000     3.000000     2.000000  "
      ]
     },
     "execution_count": 4,
     "metadata": {},
     "output_type": "execute_result"
    }
   ],
   "source": [
    "df.describe()\n"
   ]
  },
  {
   "cell_type": "code",
   "execution_count": 5,
   "id": "39ab650d",
   "metadata": {},
   "outputs": [
    {
     "data": {
      "text/html": [
       "<div>\n",
       "<style scoped>\n",
       "    .dataframe tbody tr th:only-of-type {\n",
       "        vertical-align: middle;\n",
       "    }\n",
       "\n",
       "    .dataframe tbody tr th {\n",
       "        vertical-align: top;\n",
       "    }\n",
       "\n",
       "    .dataframe thead th {\n",
       "        text-align: right;\n",
       "    }\n",
       "</style>\n",
       "<table border=\"1\" class=\"dataframe\">\n",
       "  <thead>\n",
       "    <tr style=\"text-align: right;\">\n",
       "      <th></th>\n",
       "      <th>Gender</th>\n",
       "      <th>Age</th>\n",
       "      <th>Height</th>\n",
       "      <th>Weight</th>\n",
       "      <th>family_history_with_overweight</th>\n",
       "      <th>FAVC</th>\n",
       "      <th>FCVC</th>\n",
       "      <th>NCP</th>\n",
       "      <th>CAEC</th>\n",
       "      <th>SMOKE</th>\n",
       "      <th>CH2O</th>\n",
       "      <th>SCC</th>\n",
       "      <th>FAF</th>\n",
       "      <th>TUE</th>\n",
       "      <th>CALC</th>\n",
       "      <th>MTRANS</th>\n",
       "      <th>NObeyesdad</th>\n",
       "    </tr>\n",
       "  </thead>\n",
       "  <tbody>\n",
       "    <tr>\n",
       "      <th>0</th>\n",
       "      <td>Female</td>\n",
       "      <td>21.0</td>\n",
       "      <td>1.62</td>\n",
       "      <td>64.0</td>\n",
       "      <td>yes</td>\n",
       "      <td>no</td>\n",
       "      <td>2.0</td>\n",
       "      <td>3.0</td>\n",
       "      <td>Sometimes</td>\n",
       "      <td>no</td>\n",
       "      <td>2.0</td>\n",
       "      <td>no</td>\n",
       "      <td>0.0</td>\n",
       "      <td>1.0</td>\n",
       "      <td>no</td>\n",
       "      <td>Public_Transportation</td>\n",
       "      <td>Normal_Weight</td>\n",
       "    </tr>\n",
       "    <tr>\n",
       "      <th>1</th>\n",
       "      <td>Female</td>\n",
       "      <td>21.0</td>\n",
       "      <td>1.52</td>\n",
       "      <td>56.0</td>\n",
       "      <td>yes</td>\n",
       "      <td>no</td>\n",
       "      <td>3.0</td>\n",
       "      <td>3.0</td>\n",
       "      <td>Sometimes</td>\n",
       "      <td>yes</td>\n",
       "      <td>3.0</td>\n",
       "      <td>yes</td>\n",
       "      <td>3.0</td>\n",
       "      <td>0.0</td>\n",
       "      <td>Sometimes</td>\n",
       "      <td>Public_Transportation</td>\n",
       "      <td>Normal_Weight</td>\n",
       "    </tr>\n",
       "    <tr>\n",
       "      <th>2</th>\n",
       "      <td>Male</td>\n",
       "      <td>23.0</td>\n",
       "      <td>1.80</td>\n",
       "      <td>77.0</td>\n",
       "      <td>yes</td>\n",
       "      <td>no</td>\n",
       "      <td>2.0</td>\n",
       "      <td>3.0</td>\n",
       "      <td>Sometimes</td>\n",
       "      <td>no</td>\n",
       "      <td>2.0</td>\n",
       "      <td>no</td>\n",
       "      <td>2.0</td>\n",
       "      <td>1.0</td>\n",
       "      <td>Frequently</td>\n",
       "      <td>Public_Transportation</td>\n",
       "      <td>Normal_Weight</td>\n",
       "    </tr>\n",
       "    <tr>\n",
       "      <th>3</th>\n",
       "      <td>Male</td>\n",
       "      <td>27.0</td>\n",
       "      <td>1.80</td>\n",
       "      <td>87.0</td>\n",
       "      <td>no</td>\n",
       "      <td>no</td>\n",
       "      <td>3.0</td>\n",
       "      <td>3.0</td>\n",
       "      <td>Sometimes</td>\n",
       "      <td>no</td>\n",
       "      <td>2.0</td>\n",
       "      <td>no</td>\n",
       "      <td>2.0</td>\n",
       "      <td>0.0</td>\n",
       "      <td>Frequently</td>\n",
       "      <td>Walking</td>\n",
       "      <td>Overweight_Level_I</td>\n",
       "    </tr>\n",
       "    <tr>\n",
       "      <th>4</th>\n",
       "      <td>Male</td>\n",
       "      <td>22.0</td>\n",
       "      <td>1.78</td>\n",
       "      <td>89.8</td>\n",
       "      <td>no</td>\n",
       "      <td>no</td>\n",
       "      <td>2.0</td>\n",
       "      <td>1.0</td>\n",
       "      <td>Sometimes</td>\n",
       "      <td>no</td>\n",
       "      <td>2.0</td>\n",
       "      <td>no</td>\n",
       "      <td>0.0</td>\n",
       "      <td>0.0</td>\n",
       "      <td>Sometimes</td>\n",
       "      <td>Public_Transportation</td>\n",
       "      <td>Overweight_Level_II</td>\n",
       "    </tr>\n",
       "  </tbody>\n",
       "</table>\n",
       "</div>"
      ],
      "text/plain": [
       "   Gender   Age  Height  Weight family_history_with_overweight FAVC  FCVC  \\\n",
       "0  Female  21.0    1.62    64.0                            yes   no   2.0   \n",
       "1  Female  21.0    1.52    56.0                            yes   no   3.0   \n",
       "2    Male  23.0    1.80    77.0                            yes   no   2.0   \n",
       "3    Male  27.0    1.80    87.0                             no   no   3.0   \n",
       "4    Male  22.0    1.78    89.8                             no   no   2.0   \n",
       "\n",
       "   NCP       CAEC SMOKE  CH2O  SCC  FAF  TUE        CALC  \\\n",
       "0  3.0  Sometimes    no   2.0   no  0.0  1.0          no   \n",
       "1  3.0  Sometimes   yes   3.0  yes  3.0  0.0   Sometimes   \n",
       "2  3.0  Sometimes    no   2.0   no  2.0  1.0  Frequently   \n",
       "3  3.0  Sometimes    no   2.0   no  2.0  0.0  Frequently   \n",
       "4  1.0  Sometimes    no   2.0   no  0.0  0.0   Sometimes   \n",
       "\n",
       "                  MTRANS           NObeyesdad  \n",
       "0  Public_Transportation        Normal_Weight  \n",
       "1  Public_Transportation        Normal_Weight  \n",
       "2  Public_Transportation        Normal_Weight  \n",
       "3                Walking   Overweight_Level_I  \n",
       "4  Public_Transportation  Overweight_Level_II  "
      ]
     },
     "execution_count": 5,
     "metadata": {},
     "output_type": "execute_result"
    }
   ],
   "source": [
    "df.head()"
   ]
  },
  {
   "cell_type": "code",
   "execution_count": 6,
   "id": "1a85acb9",
   "metadata": {},
   "outputs": [
    {
     "data": {
      "text/html": [
       "<div>\n",
       "<style scoped>\n",
       "    .dataframe tbody tr th:only-of-type {\n",
       "        vertical-align: middle;\n",
       "    }\n",
       "\n",
       "    .dataframe tbody tr th {\n",
       "        vertical-align: top;\n",
       "    }\n",
       "\n",
       "    .dataframe thead th {\n",
       "        text-align: right;\n",
       "    }\n",
       "</style>\n",
       "<table border=\"1\" class=\"dataframe\">\n",
       "  <thead>\n",
       "    <tr style=\"text-align: right;\">\n",
       "      <th></th>\n",
       "      <th>Gender</th>\n",
       "      <th>Age</th>\n",
       "      <th>Height</th>\n",
       "      <th>Weight</th>\n",
       "      <th>family_history_with_overweight</th>\n",
       "      <th>FAVC</th>\n",
       "      <th>FCVC</th>\n",
       "      <th>NCP</th>\n",
       "      <th>CAEC</th>\n",
       "      <th>SMOKE</th>\n",
       "      <th>CH2O</th>\n",
       "      <th>SCC</th>\n",
       "      <th>FAF</th>\n",
       "      <th>TUE</th>\n",
       "      <th>CALC</th>\n",
       "      <th>MTRANS</th>\n",
       "      <th>NObeyesdad</th>\n",
       "    </tr>\n",
       "  </thead>\n",
       "  <tbody>\n",
       "    <tr>\n",
       "      <th>2106</th>\n",
       "      <td>Female</td>\n",
       "      <td>20.976842</td>\n",
       "      <td>1.710730</td>\n",
       "      <td>131.408528</td>\n",
       "      <td>yes</td>\n",
       "      <td>yes</td>\n",
       "      <td>3.0</td>\n",
       "      <td>3.0</td>\n",
       "      <td>Sometimes</td>\n",
       "      <td>no</td>\n",
       "      <td>1.728139</td>\n",
       "      <td>no</td>\n",
       "      <td>1.676269</td>\n",
       "      <td>0.906247</td>\n",
       "      <td>Sometimes</td>\n",
       "      <td>Public_Transportation</td>\n",
       "      <td>Obesity_Type_III</td>\n",
       "    </tr>\n",
       "    <tr>\n",
       "      <th>2107</th>\n",
       "      <td>Female</td>\n",
       "      <td>21.982942</td>\n",
       "      <td>1.748584</td>\n",
       "      <td>133.742943</td>\n",
       "      <td>yes</td>\n",
       "      <td>yes</td>\n",
       "      <td>3.0</td>\n",
       "      <td>3.0</td>\n",
       "      <td>Sometimes</td>\n",
       "      <td>no</td>\n",
       "      <td>2.005130</td>\n",
       "      <td>no</td>\n",
       "      <td>1.341390</td>\n",
       "      <td>0.599270</td>\n",
       "      <td>Sometimes</td>\n",
       "      <td>Public_Transportation</td>\n",
       "      <td>Obesity_Type_III</td>\n",
       "    </tr>\n",
       "    <tr>\n",
       "      <th>2108</th>\n",
       "      <td>Female</td>\n",
       "      <td>22.524036</td>\n",
       "      <td>1.752206</td>\n",
       "      <td>133.689352</td>\n",
       "      <td>yes</td>\n",
       "      <td>yes</td>\n",
       "      <td>3.0</td>\n",
       "      <td>3.0</td>\n",
       "      <td>Sometimes</td>\n",
       "      <td>no</td>\n",
       "      <td>2.054193</td>\n",
       "      <td>no</td>\n",
       "      <td>1.414209</td>\n",
       "      <td>0.646288</td>\n",
       "      <td>Sometimes</td>\n",
       "      <td>Public_Transportation</td>\n",
       "      <td>Obesity_Type_III</td>\n",
       "    </tr>\n",
       "    <tr>\n",
       "      <th>2109</th>\n",
       "      <td>Female</td>\n",
       "      <td>24.361936</td>\n",
       "      <td>1.739450</td>\n",
       "      <td>133.346641</td>\n",
       "      <td>yes</td>\n",
       "      <td>yes</td>\n",
       "      <td>3.0</td>\n",
       "      <td>3.0</td>\n",
       "      <td>Sometimes</td>\n",
       "      <td>no</td>\n",
       "      <td>2.852339</td>\n",
       "      <td>no</td>\n",
       "      <td>1.139107</td>\n",
       "      <td>0.586035</td>\n",
       "      <td>Sometimes</td>\n",
       "      <td>Public_Transportation</td>\n",
       "      <td>Obesity_Type_III</td>\n",
       "    </tr>\n",
       "    <tr>\n",
       "      <th>2110</th>\n",
       "      <td>Female</td>\n",
       "      <td>23.664709</td>\n",
       "      <td>1.738836</td>\n",
       "      <td>133.472641</td>\n",
       "      <td>yes</td>\n",
       "      <td>yes</td>\n",
       "      <td>3.0</td>\n",
       "      <td>3.0</td>\n",
       "      <td>Sometimes</td>\n",
       "      <td>no</td>\n",
       "      <td>2.863513</td>\n",
       "      <td>no</td>\n",
       "      <td>1.026452</td>\n",
       "      <td>0.714137</td>\n",
       "      <td>Sometimes</td>\n",
       "      <td>Public_Transportation</td>\n",
       "      <td>Obesity_Type_III</td>\n",
       "    </tr>\n",
       "  </tbody>\n",
       "</table>\n",
       "</div>"
      ],
      "text/plain": [
       "      Gender        Age    Height      Weight family_history_with_overweight  \\\n",
       "2106  Female  20.976842  1.710730  131.408528                            yes   \n",
       "2107  Female  21.982942  1.748584  133.742943                            yes   \n",
       "2108  Female  22.524036  1.752206  133.689352                            yes   \n",
       "2109  Female  24.361936  1.739450  133.346641                            yes   \n",
       "2110  Female  23.664709  1.738836  133.472641                            yes   \n",
       "\n",
       "     FAVC  FCVC  NCP       CAEC SMOKE      CH2O SCC       FAF       TUE  \\\n",
       "2106  yes   3.0  3.0  Sometimes    no  1.728139  no  1.676269  0.906247   \n",
       "2107  yes   3.0  3.0  Sometimes    no  2.005130  no  1.341390  0.599270   \n",
       "2108  yes   3.0  3.0  Sometimes    no  2.054193  no  1.414209  0.646288   \n",
       "2109  yes   3.0  3.0  Sometimes    no  2.852339  no  1.139107  0.586035   \n",
       "2110  yes   3.0  3.0  Sometimes    no  2.863513  no  1.026452  0.714137   \n",
       "\n",
       "           CALC                 MTRANS        NObeyesdad  \n",
       "2106  Sometimes  Public_Transportation  Obesity_Type_III  \n",
       "2107  Sometimes  Public_Transportation  Obesity_Type_III  \n",
       "2108  Sometimes  Public_Transportation  Obesity_Type_III  \n",
       "2109  Sometimes  Public_Transportation  Obesity_Type_III  \n",
       "2110  Sometimes  Public_Transportation  Obesity_Type_III  "
      ]
     },
     "execution_count": 6,
     "metadata": {},
     "output_type": "execute_result"
    }
   ],
   "source": [
    "df.tail()\n"
   ]
  },
  {
   "cell_type": "code",
   "execution_count": 7,
   "id": "a6e71c31",
   "metadata": {},
   "outputs": [
    {
     "data": {
      "text/plain": [
       "Gender                            0\n",
       "Age                               0\n",
       "Height                            0\n",
       "Weight                            0\n",
       "family_history_with_overweight    0\n",
       "FAVC                              0\n",
       "FCVC                              0\n",
       "NCP                               0\n",
       "CAEC                              0\n",
       "SMOKE                             0\n",
       "CH2O                              0\n",
       "SCC                               0\n",
       "FAF                               0\n",
       "TUE                               0\n",
       "CALC                              0\n",
       "MTRANS                            0\n",
       "NObeyesdad                        0\n",
       "dtype: int64"
      ]
     },
     "execution_count": 7,
     "metadata": {},
     "output_type": "execute_result"
    }
   ],
   "source": [
    "df.isnull().sum()"
   ]
  },
  {
   "cell_type": "code",
   "execution_count": 8,
   "id": "0d6f7d52",
   "metadata": {},
   "outputs": [
    {
     "data": {
      "text/plain": [
       "0"
      ]
     },
     "execution_count": 8,
     "metadata": {},
     "output_type": "execute_result"
    }
   ],
   "source": [
    "df.isnull().sum().sum()\n"
   ]
  },
  {
   "cell_type": "code",
   "execution_count": 9,
   "id": "78842d91",
   "metadata": {},
   "outputs": [
    {
     "name": "stdout",
     "output_type": "stream",
     "text": [
      "<class 'pandas.core.frame.DataFrame'>\n",
      "RangeIndex: 2111 entries, 0 to 2110\n",
      "Data columns (total 17 columns):\n",
      " #   Column                          Non-Null Count  Dtype  \n",
      "---  ------                          --------------  -----  \n",
      " 0   Gender                          2111 non-null   object \n",
      " 1   Age                             2111 non-null   float64\n",
      " 2   Height                          2111 non-null   float64\n",
      " 3   Weight                          2111 non-null   float64\n",
      " 4   family_history_with_overweight  2111 non-null   object \n",
      " 5   FAVC                            2111 non-null   object \n",
      " 6   FCVC                            2111 non-null   float64\n",
      " 7   NCP                             2111 non-null   float64\n",
      " 8   CAEC                            2111 non-null   object \n",
      " 9   SMOKE                           2111 non-null   object \n",
      " 10  CH2O                            2111 non-null   float64\n",
      " 11  SCC                             2111 non-null   object \n",
      " 12  FAF                             2111 non-null   float64\n",
      " 13  TUE                             2111 non-null   float64\n",
      " 14  CALC                            2111 non-null   object \n",
      " 15  MTRANS                          2111 non-null   object \n",
      " 16  NObeyesdad                      2111 non-null   object \n",
      "dtypes: float64(8), object(9)\n",
      "memory usage: 280.5+ KB\n"
     ]
    }
   ],
   "source": [
    "df.info()"
   ]
  },
  {
   "cell_type": "markdown",
   "id": "2558404b",
   "metadata": {},
   "source": [
    "# Convert categorical code into order"
   ]
  },
  {
   "cell_type": "code",
   "execution_count": 10,
   "id": "7dff0724",
   "metadata": {},
   "outputs": [],
   "source": [
    "from pandas.api.types import CategoricalDtype"
   ]
  },
  {
   "cell_type": "code",
   "execution_count": 11,
   "id": "4279c71a",
   "metadata": {},
   "outputs": [
    {
     "data": {
      "text/plain": [
       "array(['Normal_Weight', 'Overweight_Level_I', 'Overweight_Level_II',\n",
       "       'Obesity_Type_I', 'Insufficient_Weight', 'Obesity_Type_II',\n",
       "       'Obesity_Type_III'], dtype=object)"
      ]
     },
     "execution_count": 11,
     "metadata": {},
     "output_type": "execute_result"
    }
   ],
   "source": [
    "df['NObeyesdad'].unique()"
   ]
  },
  {
   "cell_type": "code",
   "execution_count": 12,
   "id": "3cdec20e",
   "metadata": {},
   "outputs": [],
   "source": [
    "df['NObeyesdad']=df['NObeyesdad'].astype(CategoricalDtype(categories=['Insufficient_Weight'\n",
    ",'Normal_Weight','Overweight_Level_I','Overweight_Level_II','Obesity_Type_I'\n",
    ",'Obesity_Type_II','Obesity_Type_III'],ordered=True)).cat.codes"
   ]
  },
  {
   "cell_type": "code",
   "execution_count": 13,
   "id": "91aed608",
   "metadata": {},
   "outputs": [
    {
     "data": {
      "text/plain": [
       "array([1, 2, 3, 4, 0, 5, 6], dtype=int8)"
      ]
     },
     "execution_count": 13,
     "metadata": {},
     "output_type": "execute_result"
    }
   ],
   "source": [
    "df['NObeyesdad'].unique()\n"
   ]
  },
  {
   "cell_type": "code",
   "execution_count": 14,
   "id": "18ae1210",
   "metadata": {},
   "outputs": [
    {
     "data": {
      "text/plain": [
       "array(['Sometimes', 'Frequently', 'Always', 'no'], dtype=object)"
      ]
     },
     "execution_count": 14,
     "metadata": {},
     "output_type": "execute_result"
    }
   ],
   "source": [
    "df['CAEC'].unique()\n"
   ]
  },
  {
   "cell_type": "code",
   "execution_count": 15,
   "id": "b59a5a3b",
   "metadata": {},
   "outputs": [],
   "source": [
    "df['CAEC']=df['CAEC'].astype(CategoricalDtype(categories=['no','Sometimes'\n",
    ",'Frequently','Always'])).cat.codes\n"
   ]
  },
  {
   "cell_type": "code",
   "execution_count": 16,
   "id": "c263bbe4",
   "metadata": {},
   "outputs": [
    {
     "data": {
      "text/plain": [
       "array([1, 2, 3, 0], dtype=int8)"
      ]
     },
     "execution_count": 16,
     "metadata": {},
     "output_type": "execute_result"
    }
   ],
   "source": [
    "df['CAEC'].unique()\n"
   ]
  },
  {
   "cell_type": "code",
   "execution_count": 17,
   "id": "aeee3de2",
   "metadata": {},
   "outputs": [
    {
     "data": {
      "text/plain": [
       "array(['no', 'Sometimes', 'Frequently', 'Always'], dtype=object)"
      ]
     },
     "execution_count": 17,
     "metadata": {},
     "output_type": "execute_result"
    }
   ],
   "source": [
    " df['CALC'].unique()\n"
   ]
  },
  {
   "cell_type": "code",
   "execution_count": 18,
   "id": "31d1a22b",
   "metadata": {},
   "outputs": [],
   "source": [
    "df['CALC']=df['CALC'].astype(CategoricalDtype(categories=['no','Sometimes'\n",
    ",'Frequently','Always'])).cat.codes"
   ]
  },
  {
   "cell_type": "code",
   "execution_count": 19,
   "id": "58832272",
   "metadata": {},
   "outputs": [
    {
     "data": {
      "text/plain": [
       "array([0, 1, 2, 3], dtype=int8)"
      ]
     },
     "execution_count": 19,
     "metadata": {},
     "output_type": "execute_result"
    }
   ],
   "source": [
    "df['CALC'].unique()"
   ]
  },
  {
   "cell_type": "code",
   "execution_count": 20,
   "id": "36280738",
   "metadata": {},
   "outputs": [
    {
     "data": {
      "text/plain": [
       "0       0\n",
       "1       1\n",
       "2       2\n",
       "3       2\n",
       "4       1\n",
       "       ..\n",
       "2106    1\n",
       "2107    1\n",
       "2108    1\n",
       "2109    1\n",
       "2110    1\n",
       "Name: CALC, Length: 2111, dtype: int8"
      ]
     },
     "execution_count": 20,
     "metadata": {},
     "output_type": "execute_result"
    }
   ],
   "source": [
    "df['CALC']"
   ]
  },
  {
   "cell_type": "code",
   "execution_count": 21,
   "id": "afd9c766",
   "metadata": {},
   "outputs": [
    {
     "data": {
      "text/plain": [
       "array([1, 2, 3, 0], dtype=int8)"
      ]
     },
     "execution_count": 21,
     "metadata": {},
     "output_type": "execute_result"
    }
   ],
   "source": [
    "df['CAEC'].unique()"
   ]
  },
  {
   "cell_type": "code",
   "execution_count": 22,
   "id": "bcdd5749",
   "metadata": {},
   "outputs": [
    {
     "data": {
      "text/plain": [
       "array([1, 2, 3, 4, 0, 5, 6], dtype=int8)"
      ]
     },
     "execution_count": 22,
     "metadata": {},
     "output_type": "execute_result"
    }
   ],
   "source": [
    "df['NObeyesdad'].unique()"
   ]
  },
  {
   "cell_type": "code",
   "execution_count": 23,
   "id": "1c8f0fc4",
   "metadata": {},
   "outputs": [
    {
     "data": {
      "text/plain": [
       "0       1\n",
       "1       1\n",
       "2       1\n",
       "3       2\n",
       "4       3\n",
       "       ..\n",
       "2106    6\n",
       "2107    6\n",
       "2108    6\n",
       "2109    6\n",
       "2110    6\n",
       "Name: NObeyesdad, Length: 2111, dtype: int8"
      ]
     },
     "execution_count": 23,
     "metadata": {},
     "output_type": "execute_result"
    }
   ],
   "source": [
    "df['NObeyesdad']"
   ]
  },
  {
   "cell_type": "code",
   "execution_count": 24,
   "id": "aa750304",
   "metadata": {},
   "outputs": [
    {
     "data": {
      "text/plain": [
       "0       1\n",
       "1       1\n",
       "2       1\n",
       "3       1\n",
       "4       1\n",
       "       ..\n",
       "2106    1\n",
       "2107    1\n",
       "2108    1\n",
       "2109    1\n",
       "2110    1\n",
       "Name: CAEC, Length: 2111, dtype: int8"
      ]
     },
     "execution_count": 24,
     "metadata": {},
     "output_type": "execute_result"
    }
   ],
   "source": [
    "df['CAEC']"
   ]
  },
  {
   "cell_type": "code",
   "execution_count": null,
   "id": "3facdcf4",
   "metadata": {},
   "outputs": [],
   "source": []
  },
  {
   "cell_type": "code",
   "execution_count": 25,
   "id": "56f497fe",
   "metadata": {},
   "outputs": [
    {
     "data": {
      "image/png": "[encoded data removed]",
      "text/plain": [
       "<Figure size 1152x648 with 3 Axes>"
      ]
     },
     "metadata": {
      "needs_background": "light"
     },
     "output_type": "display_data"
    }
   ],
   "source": [
    "\n",
    "plt.figure(figsize=(16,9))\n",
    "\n",
    "##----------------------------------------start \n",
    "#plt.subplot(3,2,1)\n",
    "plt.subplot(321)\n",
    "#********************************************Line Plot\n",
    "days = np.array(df['CAEC'])\n",
    "delhi_tem =np.array(df['FAF'])\n",
    "\n",
    "plt.scatter(days, delhi_tem)\n",
    "\n",
    "plt.subplot(322)\n",
    "\n",
    "days = np.array(df['Height'])\n",
    "delhi_tem =np.array(df['Weight'])\n",
    "\n",
    "plt.scatter(days, delhi_tem)\n",
    "plt.subplot(323)\n",
    "\n",
    "days = np.array(df['Age'])\n",
    "delhi_tem =np.array(df['Weight'])\n",
    "\n",
    "plt.scatter(days, delhi_tem)\n",
    "plt.show()"
   ]
  },
  {
   "cell_type": "code",
   "execution_count": 26,
   "id": "23c98abe",
   "metadata": {},
   "outputs": [
    {
     "data": {
      "text/html": [
       "<div>\n",
       "<style scoped>\n",
       "    .dataframe tbody tr th:only-of-type {\n",
       "        vertical-align: middle;\n",
       "    }\n",
       "\n",
       "    .dataframe tbody tr th {\n",
       "        vertical-align: top;\n",
       "    }\n",
       "\n",
       "    .dataframe thead th {\n",
       "        text-align: right;\n",
       "    }\n",
       "</style>\n",
       "<table border=\"1\" class=\"dataframe\">\n",
       "  <thead>\n",
       "    <tr style=\"text-align: right;\">\n",
       "      <th></th>\n",
       "      <th>Age</th>\n",
       "      <th>Height</th>\n",
       "      <th>Weight</th>\n",
       "      <th>FCVC</th>\n",
       "      <th>NCP</th>\n",
       "      <th>CAEC</th>\n",
       "      <th>CH2O</th>\n",
       "      <th>FAF</th>\n",
       "      <th>TUE</th>\n",
       "      <th>CALC</th>\n",
       "      <th>...</th>\n",
       "      <th>FAVC_yes</th>\n",
       "      <th>SMOKE_no</th>\n",
       "      <th>SMOKE_yes</th>\n",
       "      <th>SCC_no</th>\n",
       "      <th>SCC_yes</th>\n",
       "      <th>MTRANS_Automobile</th>\n",
       "      <th>MTRANS_Bike</th>\n",
       "      <th>MTRANS_Motorbike</th>\n",
       "      <th>MTRANS_Public_Transportation</th>\n",
       "      <th>MTRANS_Walking</th>\n",
       "    </tr>\n",
       "  </thead>\n",
       "  <tbody>\n",
       "    <tr>\n",
       "      <th>0</th>\n",
       "      <td>21.0</td>\n",
       "      <td>1.62</td>\n",
       "      <td>64.0</td>\n",
       "      <td>2.0</td>\n",
       "      <td>3.0</td>\n",
       "      <td>1</td>\n",
       "      <td>2.0</td>\n",
       "      <td>0.0</td>\n",
       "      <td>1.0</td>\n",
       "      <td>0</td>\n",
       "      <td>...</td>\n",
       "      <td>0</td>\n",
       "      <td>1</td>\n",
       "      <td>0</td>\n",
       "      <td>1</td>\n",
       "      <td>0</td>\n",
       "      <td>0</td>\n",
       "      <td>0</td>\n",
       "      <td>0</td>\n",
       "      <td>1</td>\n",
       "      <td>0</td>\n",
       "    </tr>\n",
       "    <tr>\n",
       "      <th>1</th>\n",
       "      <td>21.0</td>\n",
       "      <td>1.52</td>\n",
       "      <td>56.0</td>\n",
       "      <td>3.0</td>\n",
       "      <td>3.0</td>\n",
       "      <td>1</td>\n",
       "      <td>3.0</td>\n",
       "      <td>3.0</td>\n",
       "      <td>0.0</td>\n",
       "      <td>1</td>\n",
       "      <td>...</td>\n",
       "      <td>0</td>\n",
       "      <td>0</td>\n",
       "      <td>1</td>\n",
       "      <td>0</td>\n",
       "      <td>1</td>\n",
       "      <td>0</td>\n",
       "      <td>0</td>\n",
       "      <td>0</td>\n",
       "      <td>1</td>\n",
       "      <td>0</td>\n",
       "    </tr>\n",
       "    <tr>\n",
       "      <th>2</th>\n",
       "      <td>23.0</td>\n",
       "      <td>1.80</td>\n",
       "      <td>77.0</td>\n",
       "      <td>2.0</td>\n",
       "      <td>3.0</td>\n",
       "      <td>1</td>\n",
       "      <td>2.0</td>\n",
       "      <td>2.0</td>\n",
       "      <td>1.0</td>\n",
       "      <td>2</td>\n",
       "      <td>...</td>\n",
       "      <td>0</td>\n",
       "      <td>1</td>\n",
       "      <td>0</td>\n",
       "      <td>1</td>\n",
       "      <td>0</td>\n",
       "      <td>0</td>\n",
       "      <td>0</td>\n",
       "      <td>0</td>\n",
       "      <td>1</td>\n",
       "      <td>0</td>\n",
       "    </tr>\n",
       "    <tr>\n",
       "      <th>3</th>\n",
       "      <td>27.0</td>\n",
       "      <td>1.80</td>\n",
       "      <td>87.0</td>\n",
       "      <td>3.0</td>\n",
       "      <td>3.0</td>\n",
       "      <td>1</td>\n",
       "      <td>2.0</td>\n",
       "      <td>2.0</td>\n",
       "      <td>0.0</td>\n",
       "      <td>2</td>\n",
       "      <td>...</td>\n",
       "      <td>0</td>\n",
       "      <td>1</td>\n",
       "      <td>0</td>\n",
       "      <td>1</td>\n",
       "      <td>0</td>\n",
       "      <td>0</td>\n",
       "      <td>0</td>\n",
       "      <td>0</td>\n",
       "      <td>0</td>\n",
       "      <td>1</td>\n",
       "    </tr>\n",
       "    <tr>\n",
       "      <th>4</th>\n",
       "      <td>22.0</td>\n",
       "      <td>1.78</td>\n",
       "      <td>89.8</td>\n",
       "      <td>2.0</td>\n",
       "      <td>1.0</td>\n",
       "      <td>1</td>\n",
       "      <td>2.0</td>\n",
       "      <td>0.0</td>\n",
       "      <td>0.0</td>\n",
       "      <td>1</td>\n",
       "      <td>...</td>\n",
       "      <td>0</td>\n",
       "      <td>1</td>\n",
       "      <td>0</td>\n",
       "      <td>1</td>\n",
       "      <td>0</td>\n",
       "      <td>0</td>\n",
       "      <td>0</td>\n",
       "      <td>0</td>\n",
       "      <td>1</td>\n",
       "      <td>0</td>\n",
       "    </tr>\n",
       "  </tbody>\n",
       "</table>\n",
       "<p>5 rows × 26 columns</p>\n",
       "</div>"
      ],
      "text/plain": [
       "    Age  Height  Weight  FCVC  NCP  CAEC  CH2O  FAF  TUE  CALC  ...  FAVC_yes  \\\n",
       "0  21.0    1.62    64.0   2.0  3.0     1   2.0  0.0  1.0     0  ...         0   \n",
       "1  21.0    1.52    56.0   3.0  3.0     1   3.0  3.0  0.0     1  ...         0   \n",
       "2  23.0    1.80    77.0   2.0  3.0     1   2.0  2.0  1.0     2  ...         0   \n",
       "3  27.0    1.80    87.0   3.0  3.0     1   2.0  2.0  0.0     2  ...         0   \n",
       "4  22.0    1.78    89.8   2.0  1.0     1   2.0  0.0  0.0     1  ...         0   \n",
       "\n",
       "   SMOKE_no  SMOKE_yes  SCC_no  SCC_yes  MTRANS_Automobile  MTRANS_Bike  \\\n",
       "0         1          0       1        0                  0            0   \n",
       "1         0          1       0        1                  0            0   \n",
       "2         1          0       1        0                  0            0   \n",
       "3         1          0       1        0                  0            0   \n",
       "4         1          0       1        0                  0            0   \n",
       "\n",
       "   MTRANS_Motorbike  MTRANS_Public_Transportation  MTRANS_Walking  \n",
       "0                 0                             1               0  \n",
       "1                 0                             1               0  \n",
       "2                 0                             1               0  \n",
       "3                 0                             0               1  \n",
       "4                 0                             1               0  \n",
       "\n",
       "[5 rows x 26 columns]"
      ]
     },
     "execution_count": 26,
     "metadata": {},
     "output_type": "execute_result"
    }
   ],
   "source": [
    "df2=pd.get_dummies(df)\n",
    "df2.head()"
   ]
  },
  {
   "cell_type": "code",
   "execution_count": 27,
   "id": "b4972c99",
   "metadata": {},
   "outputs": [
    {
     "data": {
      "text/plain": [
       "(2111, 26)"
      ]
     },
     "execution_count": 27,
     "metadata": {},
     "output_type": "execute_result"
    }
   ],
   "source": [
    "df2.shape"
   ]
  },
  {
   "cell_type": "code",
   "execution_count": 28,
   "id": "f92317da",
   "metadata": {},
   "outputs": [
    {
     "data": {
      "text/plain": [
       "Index(['Age', 'Height', 'Weight', 'FCVC', 'NCP', 'CAEC', 'CH2O', 'FAF', 'TUE',\n",
       "       'CALC', 'NObeyesdad', 'Gender_Female', 'Gender_Male',\n",
       "       'family_history_with_overweight_no',\n",
       "       'family_history_with_overweight_yes', 'FAVC_no', 'FAVC_yes', 'SMOKE_no',\n",
       "       'SMOKE_yes', 'SCC_no', 'SCC_yes', 'MTRANS_Automobile', 'MTRANS_Bike',\n",
       "       'MTRANS_Motorbike', 'MTRANS_Public_Transportation', 'MTRANS_Walking'],\n",
       "      dtype='object')"
      ]
     },
     "execution_count": 28,
     "metadata": {},
     "output_type": "execute_result"
    }
   ],
   "source": [
    "df2.keys()"
   ]
  },
  {
   "cell_type": "markdown",
   "id": "6c03847d",
   "metadata": {},
   "source": [
    "# Feature Scaling"
   ]
  },
  {
   "cell_type": "code",
   "execution_count": 29,
   "id": "f7ae2041",
   "metadata": {},
   "outputs": [],
   "source": [
    "from sklearn.preprocessing import StandardScaler\n",
    "from sklearn.model_selection import train_test_split\n",
    "from sklearn.metrics import confusion_matrix, classification_report\n",
    ", matthews_corrcoef, accuracy_score\n",
    "from sklearn.model_selection import cross_val_score"
   ]
  },
  {
   "cell_type": "code",
   "execution_count": 30,
   "id": "ee5627cf",
   "metadata": {
    "scrolled": true
   },
   "outputs": [
    {
     "name": "stdout",
     "output_type": "stream",
     "text": [
      "Shape of X= (2111, 25)\n",
      "Shape of y= (2111,)\n"
     ]
    }
   ],
   "source": [
    "X=df2.drop('NObeyesdad',axis=1)\n",
    "y=df2['NObeyesdad']\n",
    "print('Shape of X=',X.shape)\n",
    "print('Shape of y=',y.shape)"
   ]
  },
  {
   "cell_type": "code",
   "execution_count": 31,
   "id": "ad2106d9",
   "metadata": {},
   "outputs": [
    {
     "name": "stdout",
     "output_type": "stream",
     "text": [
      "Shape of X_train= (1688, 25)\n",
      "Shape of y_train= (1688,)\n",
      "Shape of X_test= (423, 25)\n",
      "Shape of y_test= (423,)\n"
     ]
    }
   ],
   "source": [
    "X_train,X_test,y_train,y_test=train_test_split(X,y,test_size=0.2,random_state=51)\n",
    "print('Shape of X_train=',X_train.shape)\n",
    "print('Shape of y_train=',y_train.shape)\n",
    "print('Shape of X_test=',X_test.shape)\n",
    "print('Shape of y_test=',y_test.shape)"
   ]
  },
  {
   "cell_type": "code",
   "execution_count": 32,
   "id": "c4e791dd",
   "metadata": {
    "scrolled": false
   },
   "outputs": [
    {
     "data": {
      "text/plain": [
       "(25.5, 0.5)"
      ]
     },
     "execution_count": 32,
     "metadata": {},
     "output_type": "execute_result"
    },
    {
     "data": {
      "image/png": "[encoded data removed]",
      "text/plain": [
       "<Figure size 1800x1800 with 2 Axes>"
      ]
     },
     "metadata": {
      "needs_background": "light"
     },
     "output_type": "display_data"
    }
   ],
   "source": [
    "plt.figure(figsize=(25,25))\n",
    "ax=sns.heatmap(X_train.corr(),cmap='coolwarm',annot=True,linewidth=2)\n",
    "bottom,top=ax.get_ylim()\n",
    "ax.set_ylim(bottom+0.5,top=0.5)"
   ]
  },
  {
   "cell_type": "code",
   "execution_count": 33,
   "id": "826c4f17",
   "metadata": {},
   "outputs": [
    {
     "data": {
      "text/html": [
       "<div>\n",
       "<style scoped>\n",
       "    .dataframe tbody tr th:only-of-type {\n",
       "        vertical-align: middle;\n",
       "    }\n",
       "\n",
       "    .dataframe tbody tr th {\n",
       "        vertical-align: top;\n",
       "    }\n",
       "\n",
       "    .dataframe thead th {\n",
       "        text-align: right;\n",
       "    }\n",
       "</style>\n",
       "<table border=\"1\" class=\"dataframe\">\n",
       "  <thead>\n",
       "    <tr style=\"text-align: right;\">\n",
       "      <th></th>\n",
       "      <th>Age</th>\n",
       "      <th>Height</th>\n",
       "      <th>Weight</th>\n",
       "      <th>FCVC</th>\n",
       "      <th>NCP</th>\n",
       "      <th>CAEC</th>\n",
       "      <th>CH2O</th>\n",
       "      <th>FAF</th>\n",
       "      <th>TUE</th>\n",
       "      <th>CALC</th>\n",
       "      <th>...</th>\n",
       "      <th>FAVC_yes</th>\n",
       "      <th>SMOKE_no</th>\n",
       "      <th>SMOKE_yes</th>\n",
       "      <th>SCC_no</th>\n",
       "      <th>SCC_yes</th>\n",
       "      <th>MTRANS_Automobile</th>\n",
       "      <th>MTRANS_Bike</th>\n",
       "      <th>MTRANS_Motorbike</th>\n",
       "      <th>MTRANS_Public_Transportation</th>\n",
       "      <th>MTRANS_Walking</th>\n",
       "    </tr>\n",
       "  </thead>\n",
       "  <tbody>\n",
       "    <tr>\n",
       "      <th>900</th>\n",
       "      <td>21.000000</td>\n",
       "      <td>1.618148</td>\n",
       "      <td>68.981403</td>\n",
       "      <td>1.142468</td>\n",
       "      <td>3.000000</td>\n",
       "      <td>0</td>\n",
       "      <td>2.197732</td>\n",
       "      <td>0.827506</td>\n",
       "      <td>0.572877</td>\n",
       "      <td>1</td>\n",
       "      <td>...</td>\n",
       "      <td>1</td>\n",
       "      <td>1</td>\n",
       "      <td>0</td>\n",
       "      <td>1</td>\n",
       "      <td>0</td>\n",
       "      <td>0</td>\n",
       "      <td>0</td>\n",
       "      <td>0</td>\n",
       "      <td>1</td>\n",
       "      <td>0</td>\n",
       "    </tr>\n",
       "    <tr>\n",
       "      <th>193</th>\n",
       "      <td>20.000000</td>\n",
       "      <td>1.780000</td>\n",
       "      <td>68.000000</td>\n",
       "      <td>2.000000</td>\n",
       "      <td>1.000000</td>\n",
       "      <td>2</td>\n",
       "      <td>3.000000</td>\n",
       "      <td>2.000000</td>\n",
       "      <td>1.000000</td>\n",
       "      <td>0</td>\n",
       "      <td>...</td>\n",
       "      <td>0</td>\n",
       "      <td>1</td>\n",
       "      <td>0</td>\n",
       "      <td>0</td>\n",
       "      <td>1</td>\n",
       "      <td>0</td>\n",
       "      <td>0</td>\n",
       "      <td>0</td>\n",
       "      <td>1</td>\n",
       "      <td>0</td>\n",
       "    </tr>\n",
       "    <tr>\n",
       "      <th>645</th>\n",
       "      <td>21.125098</td>\n",
       "      <td>1.767479</td>\n",
       "      <td>56.265959</td>\n",
       "      <td>2.371338</td>\n",
       "      <td>3.998766</td>\n",
       "      <td>2</td>\n",
       "      <td>2.263466</td>\n",
       "      <td>2.000000</td>\n",
       "      <td>0.844004</td>\n",
       "      <td>0</td>\n",
       "      <td>...</td>\n",
       "      <td>1</td>\n",
       "      <td>1</td>\n",
       "      <td>0</td>\n",
       "      <td>1</td>\n",
       "      <td>0</td>\n",
       "      <td>0</td>\n",
       "      <td>0</td>\n",
       "      <td>0</td>\n",
       "      <td>1</td>\n",
       "      <td>0</td>\n",
       "    </tr>\n",
       "    <tr>\n",
       "      <th>2034</th>\n",
       "      <td>26.000000</td>\n",
       "      <td>1.641849</td>\n",
       "      <td>111.682693</td>\n",
       "      <td>3.000000</td>\n",
       "      <td>3.000000</td>\n",
       "      <td>1</td>\n",
       "      <td>2.632253</td>\n",
       "      <td>0.000000</td>\n",
       "      <td>0.244205</td>\n",
       "      <td>1</td>\n",
       "      <td>...</td>\n",
       "      <td>1</td>\n",
       "      <td>1</td>\n",
       "      <td>0</td>\n",
       "      <td>1</td>\n",
       "      <td>0</td>\n",
       "      <td>0</td>\n",
       "      <td>0</td>\n",
       "      <td>0</td>\n",
       "      <td>1</td>\n",
       "      <td>0</td>\n",
       "    </tr>\n",
       "    <tr>\n",
       "      <th>1930</th>\n",
       "      <td>25.982113</td>\n",
       "      <td>1.627818</td>\n",
       "      <td>105.428628</td>\n",
       "      <td>3.000000</td>\n",
       "      <td>3.000000</td>\n",
       "      <td>1</td>\n",
       "      <td>1.480750</td>\n",
       "      <td>0.098043</td>\n",
       "      <td>0.663492</td>\n",
       "      <td>1</td>\n",
       "      <td>...</td>\n",
       "      <td>1</td>\n",
       "      <td>1</td>\n",
       "      <td>0</td>\n",
       "      <td>1</td>\n",
       "      <td>0</td>\n",
       "      <td>0</td>\n",
       "      <td>0</td>\n",
       "      <td>0</td>\n",
       "      <td>1</td>\n",
       "      <td>0</td>\n",
       "    </tr>\n",
       "    <tr>\n",
       "      <th>...</th>\n",
       "      <td>...</td>\n",
       "      <td>...</td>\n",
       "      <td>...</td>\n",
       "      <td>...</td>\n",
       "      <td>...</td>\n",
       "      <td>...</td>\n",
       "      <td>...</td>\n",
       "      <td>...</td>\n",
       "      <td>...</td>\n",
       "      <td>...</td>\n",
       "      <td>...</td>\n",
       "      <td>...</td>\n",
       "      <td>...</td>\n",
       "      <td>...</td>\n",
       "      <td>...</td>\n",
       "      <td>...</td>\n",
       "      <td>...</td>\n",
       "      <td>...</td>\n",
       "      <td>...</td>\n",
       "      <td>...</td>\n",
       "      <td>...</td>\n",
       "    </tr>\n",
       "    <tr>\n",
       "      <th>1460</th>\n",
       "      <td>23.000000</td>\n",
       "      <td>1.742500</td>\n",
       "      <td>105.028665</td>\n",
       "      <td>2.393837</td>\n",
       "      <td>3.000000</td>\n",
       "      <td>1</td>\n",
       "      <td>2.014990</td>\n",
       "      <td>0.978815</td>\n",
       "      <td>0.413220</td>\n",
       "      <td>1</td>\n",
       "      <td>...</td>\n",
       "      <td>1</td>\n",
       "      <td>1</td>\n",
       "      <td>0</td>\n",
       "      <td>1</td>\n",
       "      <td>0</td>\n",
       "      <td>0</td>\n",
       "      <td>0</td>\n",
       "      <td>0</td>\n",
       "      <td>1</td>\n",
       "      <td>0</td>\n",
       "    </tr>\n",
       "    <tr>\n",
       "      <th>1733</th>\n",
       "      <td>30.577944</td>\n",
       "      <td>1.783953</td>\n",
       "      <td>120.613561</td>\n",
       "      <td>2.341999</td>\n",
       "      <td>3.000000</td>\n",
       "      <td>1</td>\n",
       "      <td>2.299878</td>\n",
       "      <td>0.565242</td>\n",
       "      <td>0.921991</td>\n",
       "      <td>1</td>\n",
       "      <td>...</td>\n",
       "      <td>1</td>\n",
       "      <td>1</td>\n",
       "      <td>0</td>\n",
       "      <td>1</td>\n",
       "      <td>0</td>\n",
       "      <td>1</td>\n",
       "      <td>0</td>\n",
       "      <td>0</td>\n",
       "      <td>0</td>\n",
       "      <td>0</td>\n",
       "    </tr>\n",
       "    <tr>\n",
       "      <th>1760</th>\n",
       "      <td>31.490699</td>\n",
       "      <td>1.773521</td>\n",
       "      <td>120.209711</td>\n",
       "      <td>2.777165</td>\n",
       "      <td>3.000000</td>\n",
       "      <td>1</td>\n",
       "      <td>2.106861</td>\n",
       "      <td>0.925941</td>\n",
       "      <td>0.291600</td>\n",
       "      <td>1</td>\n",
       "      <td>...</td>\n",
       "      <td>1</td>\n",
       "      <td>1</td>\n",
       "      <td>0</td>\n",
       "      <td>1</td>\n",
       "      <td>0</td>\n",
       "      <td>1</td>\n",
       "      <td>0</td>\n",
       "      <td>0</td>\n",
       "      <td>0</td>\n",
       "      <td>0</td>\n",
       "    </tr>\n",
       "    <tr>\n",
       "      <th>485</th>\n",
       "      <td>21.000000</td>\n",
       "      <td>1.800000</td>\n",
       "      <td>73.000000</td>\n",
       "      <td>1.000000</td>\n",
       "      <td>3.000000</td>\n",
       "      <td>3</td>\n",
       "      <td>2.000000</td>\n",
       "      <td>3.000000</td>\n",
       "      <td>1.000000</td>\n",
       "      <td>1</td>\n",
       "      <td>...</td>\n",
       "      <td>1</td>\n",
       "      <td>1</td>\n",
       "      <td>0</td>\n",
       "      <td>1</td>\n",
       "      <td>0</td>\n",
       "      <td>0</td>\n",
       "      <td>0</td>\n",
       "      <td>0</td>\n",
       "      <td>1</td>\n",
       "      <td>0</td>\n",
       "    </tr>\n",
       "    <tr>\n",
       "      <th>2105</th>\n",
       "      <td>21.285965</td>\n",
       "      <td>1.726920</td>\n",
       "      <td>131.335786</td>\n",
       "      <td>3.000000</td>\n",
       "      <td>3.000000</td>\n",
       "      <td>1</td>\n",
       "      <td>1.796267</td>\n",
       "      <td>1.728332</td>\n",
       "      <td>0.897924</td>\n",
       "      <td>1</td>\n",
       "      <td>...</td>\n",
       "      <td>1</td>\n",
       "      <td>1</td>\n",
       "      <td>0</td>\n",
       "      <td>1</td>\n",
       "      <td>0</td>\n",
       "      <td>0</td>\n",
       "      <td>0</td>\n",
       "      <td>0</td>\n",
       "      <td>1</td>\n",
       "      <td>0</td>\n",
       "    </tr>\n",
       "  </tbody>\n",
       "</table>\n",
       "<p>1688 rows × 25 columns</p>\n",
       "</div>"
      ],
      "text/plain": [
       "            Age    Height      Weight      FCVC       NCP  CAEC      CH2O  \\\n",
       "900   21.000000  1.618148   68.981403  1.142468  3.000000     0  2.197732   \n",
       "193   20.000000  1.780000   68.000000  2.000000  1.000000     2  3.000000   \n",
       "645   21.125098  1.767479   56.265959  2.371338  3.998766     2  2.263466   \n",
       "2034  26.000000  1.641849  111.682693  3.000000  3.000000     1  2.632253   \n",
       "1930  25.982113  1.627818  105.428628  3.000000  3.000000     1  1.480750   \n",
       "...         ...       ...         ...       ...       ...   ...       ...   \n",
       "1460  23.000000  1.742500  105.028665  2.393837  3.000000     1  2.014990   \n",
       "1733  30.577944  1.783953  120.613561  2.341999  3.000000     1  2.299878   \n",
       "1760  31.490699  1.773521  120.209711  2.777165  3.000000     1  2.106861   \n",
       "485   21.000000  1.800000   73.000000  1.000000  3.000000     3  2.000000   \n",
       "2105  21.285965  1.726920  131.335786  3.000000  3.000000     1  1.796267   \n",
       "\n",
       "           FAF       TUE  CALC  ...  FAVC_yes  SMOKE_no  SMOKE_yes  SCC_no  \\\n",
       "900   0.827506  0.572877     1  ...         1         1          0       1   \n",
       "193   2.000000  1.000000     0  ...         0         1          0       0   \n",
       "645   2.000000  0.844004     0  ...         1         1          0       1   \n",
       "2034  0.000000  0.244205     1  ...         1         1          0       1   \n",
       "1930  0.098043  0.663492     1  ...         1         1          0       1   \n",
       "...        ...       ...   ...  ...       ...       ...        ...     ...   \n",
       "1460  0.978815  0.413220     1  ...         1         1          0       1   \n",
       "1733  0.565242  0.921991     1  ...         1         1          0       1   \n",
       "1760  0.925941  0.291600     1  ...         1         1          0       1   \n",
       "485   3.000000  1.000000     1  ...         1         1          0       1   \n",
       "2105  1.728332  0.897924     1  ...         1         1          0       1   \n",
       "\n",
       "      SCC_yes  MTRANS_Automobile  MTRANS_Bike  MTRANS_Motorbike  \\\n",
       "900         0                  0            0                 0   \n",
       "193         1                  0            0                 0   \n",
       "645         0                  0            0                 0   \n",
       "2034        0                  0            0                 0   \n",
       "1930        0                  0            0                 0   \n",
       "...       ...                ...          ...               ...   \n",
       "1460        0                  0            0                 0   \n",
       "1733        0                  1            0                 0   \n",
       "1760        0                  1            0                 0   \n",
       "485         0                  0            0                 0   \n",
       "2105        0                  0            0                 0   \n",
       "\n",
       "      MTRANS_Public_Transportation  MTRANS_Walking  \n",
       "900                              1               0  \n",
       "193                              1               0  \n",
       "645                              1               0  \n",
       "2034                             1               0  \n",
       "1930                             1               0  \n",
       "...                            ...             ...  \n",
       "1460                             1               0  \n",
       "1733                             0               0  \n",
       "1760                             0               0  \n",
       "485                              1               0  \n",
       "2105                             1               0  \n",
       "\n",
       "[1688 rows x 25 columns]"
      ]
     },
     "execution_count": 33,
     "metadata": {},
     "output_type": "execute_result"
    }
   ],
   "source": [
    "X_train"
   ]
  },
  {
   "cell_type": "code",
   "execution_count": 34,
   "id": "2fe3153a",
   "metadata": {},
   "outputs": [
    {
     "data": {
      "text/plain": [
       "array([[-0.52110168, -0.89626904, -0.67425398, ..., -0.07719764,\n",
       "         0.58282291, -0.16167813],\n",
       "       [-0.68117566,  0.83589705, -0.71150522, ..., -0.07719764,\n",
       "         0.58282291, -0.16167813],\n",
       "       [-0.50107675,  0.7018953 , -1.15689576, ..., -0.07719764,\n",
       "         0.58282291, -0.16167813],\n",
       "       ...,\n",
       "       [ 1.15818619,  0.76655775,  1.27022562, ..., -0.07719764,\n",
       "        -1.71578706, -0.16167813],\n",
       "       [-0.52110168,  1.04994026, -0.52171957, ..., -0.07719764,\n",
       "         0.58282291, -0.16167813],\n",
       "       [-0.47532613,  0.26782637,  1.6925395 , ..., -0.07719764,\n",
       "         0.58282291, -0.16167813]])"
      ]
     },
     "execution_count": 34,
     "metadata": {},
     "output_type": "execute_result"
    }
   ],
   "source": [
    "sc=StandardScaler()\n",
    "sc.fit_transform(X_train)"
   ]
  },
  {
   "cell_type": "code",
   "execution_count": 35,
   "id": "a70ffe6b",
   "metadata": {},
   "outputs": [
    {
     "data": {
      "text/plain": [
       "StandardScaler()"
      ]
     },
     "execution_count": 35,
     "metadata": {},
     "output_type": "execute_result"
    }
   ],
   "source": [
    "sc=StandardScaler()\n",
    "sc.fit(X_train)"
   ]
  },
  {
   "cell_type": "code",
   "execution_count": 36,
   "id": "97a3f72e",
   "metadata": {},
   "outputs": [
    {
     "data": {
      "text/html": [
       "<div>\n",
       "<style scoped>\n",
       "    .dataframe tbody tr th:only-of-type {\n",
       "        vertical-align: middle;\n",
       "    }\n",
       "\n",
       "    .dataframe tbody tr th {\n",
       "        vertical-align: top;\n",
       "    }\n",
       "\n",
       "    .dataframe thead th {\n",
       "        text-align: right;\n",
       "    }\n",
       "</style>\n",
       "<table border=\"1\" class=\"dataframe\">\n",
       "  <thead>\n",
       "    <tr style=\"text-align: right;\">\n",
       "      <th></th>\n",
       "      <th>Age</th>\n",
       "      <th>Height</th>\n",
       "      <th>Weight</th>\n",
       "      <th>FCVC</th>\n",
       "      <th>NCP</th>\n",
       "      <th>CAEC</th>\n",
       "      <th>CH2O</th>\n",
       "      <th>FAF</th>\n",
       "      <th>TUE</th>\n",
       "      <th>CALC</th>\n",
       "      <th>...</th>\n",
       "      <th>FAVC_yes</th>\n",
       "      <th>SMOKE_no</th>\n",
       "      <th>SMOKE_yes</th>\n",
       "      <th>SCC_no</th>\n",
       "      <th>SCC_yes</th>\n",
       "      <th>MTRANS_Automobile</th>\n",
       "      <th>MTRANS_Bike</th>\n",
       "      <th>MTRANS_Motorbike</th>\n",
       "      <th>MTRANS_Public_Transportation</th>\n",
       "      <th>MTRANS_Walking</th>\n",
       "    </tr>\n",
       "  </thead>\n",
       "  <tbody>\n",
       "    <tr>\n",
       "      <th>900</th>\n",
       "      <td>21.000000</td>\n",
       "      <td>1.618148</td>\n",
       "      <td>68.981403</td>\n",
       "      <td>1.142468</td>\n",
       "      <td>3.000000</td>\n",
       "      <td>0</td>\n",
       "      <td>2.197732</td>\n",
       "      <td>0.827506</td>\n",
       "      <td>0.572877</td>\n",
       "      <td>1</td>\n",
       "      <td>...</td>\n",
       "      <td>1</td>\n",
       "      <td>1</td>\n",
       "      <td>0</td>\n",
       "      <td>1</td>\n",
       "      <td>0</td>\n",
       "      <td>0</td>\n",
       "      <td>0</td>\n",
       "      <td>0</td>\n",
       "      <td>1</td>\n",
       "      <td>0</td>\n",
       "    </tr>\n",
       "    <tr>\n",
       "      <th>193</th>\n",
       "      <td>20.000000</td>\n",
       "      <td>1.780000</td>\n",
       "      <td>68.000000</td>\n",
       "      <td>2.000000</td>\n",
       "      <td>1.000000</td>\n",
       "      <td>2</td>\n",
       "      <td>3.000000</td>\n",
       "      <td>2.000000</td>\n",
       "      <td>1.000000</td>\n",
       "      <td>0</td>\n",
       "      <td>...</td>\n",
       "      <td>0</td>\n",
       "      <td>1</td>\n",
       "      <td>0</td>\n",
       "      <td>0</td>\n",
       "      <td>1</td>\n",
       "      <td>0</td>\n",
       "      <td>0</td>\n",
       "      <td>0</td>\n",
       "      <td>1</td>\n",
       "      <td>0</td>\n",
       "    </tr>\n",
       "    <tr>\n",
       "      <th>645</th>\n",
       "      <td>21.125098</td>\n",
       "      <td>1.767479</td>\n",
       "      <td>56.265959</td>\n",
       "      <td>2.371338</td>\n",
       "      <td>3.998766</td>\n",
       "      <td>2</td>\n",
       "      <td>2.263466</td>\n",
       "      <td>2.000000</td>\n",
       "      <td>0.844004</td>\n",
       "      <td>0</td>\n",
       "      <td>...</td>\n",
       "      <td>1</td>\n",
       "      <td>1</td>\n",
       "      <td>0</td>\n",
       "      <td>1</td>\n",
       "      <td>0</td>\n",
       "      <td>0</td>\n",
       "      <td>0</td>\n",
       "      <td>0</td>\n",
       "      <td>1</td>\n",
       "      <td>0</td>\n",
       "    </tr>\n",
       "    <tr>\n",
       "      <th>2034</th>\n",
       "      <td>26.000000</td>\n",
       "      <td>1.641849</td>\n",
       "      <td>111.682693</td>\n",
       "      <td>3.000000</td>\n",
       "      <td>3.000000</td>\n",
       "      <td>1</td>\n",
       "      <td>2.632253</td>\n",
       "      <td>0.000000</td>\n",
       "      <td>0.244205</td>\n",
       "      <td>1</td>\n",
       "      <td>...</td>\n",
       "      <td>1</td>\n",
       "      <td>1</td>\n",
       "      <td>0</td>\n",
       "      <td>1</td>\n",
       "      <td>0</td>\n",
       "      <td>0</td>\n",
       "      <td>0</td>\n",
       "      <td>0</td>\n",
       "      <td>1</td>\n",
       "      <td>0</td>\n",
       "    </tr>\n",
       "    <tr>\n",
       "      <th>1930</th>\n",
       "      <td>25.982113</td>\n",
       "      <td>1.627818</td>\n",
       "      <td>105.428628</td>\n",
       "      <td>3.000000</td>\n",
       "      <td>3.000000</td>\n",
       "      <td>1</td>\n",
       "      <td>1.480750</td>\n",
       "      <td>0.098043</td>\n",
       "      <td>0.663492</td>\n",
       "      <td>1</td>\n",
       "      <td>...</td>\n",
       "      <td>1</td>\n",
       "      <td>1</td>\n",
       "      <td>0</td>\n",
       "      <td>1</td>\n",
       "      <td>0</td>\n",
       "      <td>0</td>\n",
       "      <td>0</td>\n",
       "      <td>0</td>\n",
       "      <td>1</td>\n",
       "      <td>0</td>\n",
       "    </tr>\n",
       "    <tr>\n",
       "      <th>...</th>\n",
       "      <td>...</td>\n",
       "      <td>...</td>\n",
       "      <td>...</td>\n",
       "      <td>...</td>\n",
       "      <td>...</td>\n",
       "      <td>...</td>\n",
       "      <td>...</td>\n",
       "      <td>...</td>\n",
       "      <td>...</td>\n",
       "      <td>...</td>\n",
       "      <td>...</td>\n",
       "      <td>...</td>\n",
       "      <td>...</td>\n",
       "      <td>...</td>\n",
       "      <td>...</td>\n",
       "      <td>...</td>\n",
       "      <td>...</td>\n",
       "      <td>...</td>\n",
       "      <td>...</td>\n",
       "      <td>...</td>\n",
       "      <td>...</td>\n",
       "    </tr>\n",
       "    <tr>\n",
       "      <th>1460</th>\n",
       "      <td>23.000000</td>\n",
       "      <td>1.742500</td>\n",
       "      <td>105.028665</td>\n",
       "      <td>2.393837</td>\n",
       "      <td>3.000000</td>\n",
       "      <td>1</td>\n",
       "      <td>2.014990</td>\n",
       "      <td>0.978815</td>\n",
       "      <td>0.413220</td>\n",
       "      <td>1</td>\n",
       "      <td>...</td>\n",
       "      <td>1</td>\n",
       "      <td>1</td>\n",
       "      <td>0</td>\n",
       "      <td>1</td>\n",
       "      <td>0</td>\n",
       "      <td>0</td>\n",
       "      <td>0</td>\n",
       "      <td>0</td>\n",
       "      <td>1</td>\n",
       "      <td>0</td>\n",
       "    </tr>\n",
       "    <tr>\n",
       "      <th>1733</th>\n",
       "      <td>30.577944</td>\n",
       "      <td>1.783953</td>\n",
       "      <td>120.613561</td>\n",
       "      <td>2.341999</td>\n",
       "      <td>3.000000</td>\n",
       "      <td>1</td>\n",
       "      <td>2.299878</td>\n",
       "      <td>0.565242</td>\n",
       "      <td>0.921991</td>\n",
       "      <td>1</td>\n",
       "      <td>...</td>\n",
       "      <td>1</td>\n",
       "      <td>1</td>\n",
       "      <td>0</td>\n",
       "      <td>1</td>\n",
       "      <td>0</td>\n",
       "      <td>1</td>\n",
       "      <td>0</td>\n",
       "      <td>0</td>\n",
       "      <td>0</td>\n",
       "      <td>0</td>\n",
       "    </tr>\n",
       "    <tr>\n",
       "      <th>1760</th>\n",
       "      <td>31.490699</td>\n",
       "      <td>1.773521</td>\n",
       "      <td>120.209711</td>\n",
       "      <td>2.777165</td>\n",
       "      <td>3.000000</td>\n",
       "      <td>1</td>\n",
       "      <td>2.106861</td>\n",
       "      <td>0.925941</td>\n",
       "      <td>0.291600</td>\n",
       "      <td>1</td>\n",
       "      <td>...</td>\n",
       "      <td>1</td>\n",
       "      <td>1</td>\n",
       "      <td>0</td>\n",
       "      <td>1</td>\n",
       "      <td>0</td>\n",
       "      <td>1</td>\n",
       "      <td>0</td>\n",
       "      <td>0</td>\n",
       "      <td>0</td>\n",
       "      <td>0</td>\n",
       "    </tr>\n",
       "    <tr>\n",
       "      <th>485</th>\n",
       "      <td>21.000000</td>\n",
       "      <td>1.800000</td>\n",
       "      <td>73.000000</td>\n",
       "      <td>1.000000</td>\n",
       "      <td>3.000000</td>\n",
       "      <td>3</td>\n",
       "      <td>2.000000</td>\n",
       "      <td>3.000000</td>\n",
       "      <td>1.000000</td>\n",
       "      <td>1</td>\n",
       "      <td>...</td>\n",
       "      <td>1</td>\n",
       "      <td>1</td>\n",
       "      <td>0</td>\n",
       "      <td>1</td>\n",
       "      <td>0</td>\n",
       "      <td>0</td>\n",
       "      <td>0</td>\n",
       "      <td>0</td>\n",
       "      <td>1</td>\n",
       "      <td>0</td>\n",
       "    </tr>\n",
       "    <tr>\n",
       "      <th>2105</th>\n",
       "      <td>21.285965</td>\n",
       "      <td>1.726920</td>\n",
       "      <td>131.335786</td>\n",
       "      <td>3.000000</td>\n",
       "      <td>3.000000</td>\n",
       "      <td>1</td>\n",
       "      <td>1.796267</td>\n",
       "      <td>1.728332</td>\n",
       "      <td>0.897924</td>\n",
       "      <td>1</td>\n",
       "      <td>...</td>\n",
       "      <td>1</td>\n",
       "      <td>1</td>\n",
       "      <td>0</td>\n",
       "      <td>1</td>\n",
       "      <td>0</td>\n",
       "      <td>0</td>\n",
       "      <td>0</td>\n",
       "      <td>0</td>\n",
       "      <td>1</td>\n",
       "      <td>0</td>\n",
       "    </tr>\n",
       "  </tbody>\n",
       "</table>\n",
       "<p>1688 rows × 25 columns</p>\n",
       "</div>"
      ],
      "text/plain": [
       "            Age    Height      Weight      FCVC       NCP  CAEC      CH2O  \\\n",
       "900   21.000000  1.618148   68.981403  1.142468  3.000000     0  2.197732   \n",
       "193   20.000000  1.780000   68.000000  2.000000  1.000000     2  3.000000   \n",
       "645   21.125098  1.767479   56.265959  2.371338  3.998766     2  2.263466   \n",
       "2034  26.000000  1.641849  111.682693  3.000000  3.000000     1  2.632253   \n",
       "1930  25.982113  1.627818  105.428628  3.000000  3.000000     1  1.480750   \n",
       "...         ...       ...         ...       ...       ...   ...       ...   \n",
       "1460  23.000000  1.742500  105.028665  2.393837  3.000000     1  2.014990   \n",
       "1733  30.577944  1.783953  120.613561  2.341999  3.000000     1  2.299878   \n",
       "1760  31.490699  1.773521  120.209711  2.777165  3.000000     1  2.106861   \n",
       "485   21.000000  1.800000   73.000000  1.000000  3.000000     3  2.000000   \n",
       "2105  21.285965  1.726920  131.335786  3.000000  3.000000     1  1.796267   \n",
       "\n",
       "           FAF       TUE  CALC  ...  FAVC_yes  SMOKE_no  SMOKE_yes  SCC_no  \\\n",
       "900   0.827506  0.572877     1  ...         1         1          0       1   \n",
       "193   2.000000  1.000000     0  ...         0         1          0       0   \n",
       "645   2.000000  0.844004     0  ...         1         1          0       1   \n",
       "2034  0.000000  0.244205     1  ...         1         1          0       1   \n",
       "1930  0.098043  0.663492     1  ...         1         1          0       1   \n",
       "...        ...       ...   ...  ...       ...       ...        ...     ...   \n",
       "1460  0.978815  0.413220     1  ...         1         1          0       1   \n",
       "1733  0.565242  0.921991     1  ...         1         1          0       1   \n",
       "1760  0.925941  0.291600     1  ...         1         1          0       1   \n",
       "485   3.000000  1.000000     1  ...         1         1          0       1   \n",
       "2105  1.728332  0.897924     1  ...         1         1          0       1   \n",
       "\n",
       "      SCC_yes  MTRANS_Automobile  MTRANS_Bike  MTRANS_Motorbike  \\\n",
       "900         0                  0            0                 0   \n",
       "193         1                  0            0                 0   \n",
       "645         0                  0            0                 0   \n",
       "2034        0                  0            0                 0   \n",
       "1930        0                  0            0                 0   \n",
       "...       ...                ...          ...               ...   \n",
       "1460        0                  0            0                 0   \n",
       "1733        0                  1            0                 0   \n",
       "1760        0                  1            0                 0   \n",
       "485         0                  0            0                 0   \n",
       "2105        0                  0            0                 0   \n",
       "\n",
       "      MTRANS_Public_Transportation  MTRANS_Walking  \n",
       "900                              1               0  \n",
       "193                              1               0  \n",
       "645                              1               0  \n",
       "2034                             1               0  \n",
       "1930                             1               0  \n",
       "...                            ...             ...  \n",
       "1460                             1               0  \n",
       "1733                             0               0  \n",
       "1760                             0               0  \n",
       "485                              1               0  \n",
       "2105                             1               0  \n",
       "\n",
       "[1688 rows x 25 columns]"
      ]
     },
     "execution_count": 36,
     "metadata": {},
     "output_type": "execute_result"
    }
   ],
   "source": [
    "X_train\n"
   ]
  },
  {
   "cell_type": "code",
   "execution_count": 37,
   "id": "750830fb",
   "metadata": {},
   "outputs": [
    {
     "data": {
      "text/plain": [
       "array([2.42553804e+01, 1.70189455e+00, 8.67449685e+01, 2.41077039e+00,\n",
       "       2.69087578e+00, 1.14158768e+00, 1.99786887e+00, 1.00692855e+00,\n",
       "       6.48405277e-01, 7.29857820e-01, 4.89336493e-01, 5.10663507e-01,\n",
       "       1.79502370e-01, 8.20497630e-01, 1.16113744e-01, 8.83886256e-01,\n",
       "       9.78080569e-01, 2.19194313e-02, 9.53791469e-01, 4.62085308e-02,\n",
       "       2.18009479e-01, 4.14691943e-03, 5.92417062e-03, 7.46445498e-01,\n",
       "       2.54739336e-02])"
      ]
     },
     "execution_count": 37,
     "metadata": {},
     "output_type": "execute_result"
    }
   ],
   "source": [
    "sc.mean_"
   ]
  },
  {
   "cell_type": "code",
   "execution_count": 38,
   "id": "935469e2",
   "metadata": {},
   "outputs": [
    {
     "data": {
      "text/plain": [
       "array([ 6.24711175,  0.09343908, 26.34551068,  0.53270434,  0.77343949,\n",
       "        0.47269053,  0.6050792 ,  0.83538874,  0.60976148,  0.51102488,\n",
       "        0.49988628,  0.49988628,  0.38377242,  0.38377242,  0.32036127,\n",
       "        0.32036127,  0.14642052,  0.14642052,  0.20993642,  0.20993642,\n",
       "        0.41289387,  0.06426292,  0.07674031,  0.43504553,  0.15755955])"
      ]
     },
     "execution_count": 38,
     "metadata": {},
     "output_type": "execute_result"
    }
   ],
   "source": [
    "sc.scale_\n"
   ]
  },
  {
   "cell_type": "code",
   "execution_count": 39,
   "id": "bc36cad3",
   "metadata": {},
   "outputs": [
    {
     "data": {
      "text/html": [
       "<div>\n",
       "<style scoped>\n",
       "    .dataframe tbody tr th:only-of-type {\n",
       "        vertical-align: middle;\n",
       "    }\n",
       "\n",
       "    .dataframe tbody tr th {\n",
       "        vertical-align: top;\n",
       "    }\n",
       "\n",
       "    .dataframe thead th {\n",
       "        text-align: right;\n",
       "    }\n",
       "</style>\n",
       "<table border=\"1\" class=\"dataframe\">\n",
       "  <thead>\n",
       "    <tr style=\"text-align: right;\">\n",
       "      <th></th>\n",
       "      <th>Age</th>\n",
       "      <th>Height</th>\n",
       "      <th>Weight</th>\n",
       "      <th>FCVC</th>\n",
       "      <th>NCP</th>\n",
       "      <th>CAEC</th>\n",
       "      <th>CH2O</th>\n",
       "      <th>FAF</th>\n",
       "      <th>TUE</th>\n",
       "      <th>CALC</th>\n",
       "      <th>...</th>\n",
       "      <th>FAVC_yes</th>\n",
       "      <th>SMOKE_no</th>\n",
       "      <th>SMOKE_yes</th>\n",
       "      <th>SCC_no</th>\n",
       "      <th>SCC_yes</th>\n",
       "      <th>MTRANS_Automobile</th>\n",
       "      <th>MTRANS_Bike</th>\n",
       "      <th>MTRANS_Motorbike</th>\n",
       "      <th>MTRANS_Public_Transportation</th>\n",
       "      <th>MTRANS_Walking</th>\n",
       "    </tr>\n",
       "  </thead>\n",
       "  <tbody>\n",
       "    <tr>\n",
       "      <th>count</th>\n",
       "      <td>1688.000000</td>\n",
       "      <td>1688.000000</td>\n",
       "      <td>1688.000000</td>\n",
       "      <td>1688.000000</td>\n",
       "      <td>1688.000000</td>\n",
       "      <td>1688.000000</td>\n",
       "      <td>1688.000000</td>\n",
       "      <td>1688.000000</td>\n",
       "      <td>1688.000000</td>\n",
       "      <td>1688.000000</td>\n",
       "      <td>...</td>\n",
       "      <td>1688.000000</td>\n",
       "      <td>1688.000000</td>\n",
       "      <td>1688.000000</td>\n",
       "      <td>1688.000000</td>\n",
       "      <td>1688.000000</td>\n",
       "      <td>1688.000000</td>\n",
       "      <td>1688.000000</td>\n",
       "      <td>1688.000000</td>\n",
       "      <td>1688.000000</td>\n",
       "      <td>1688.000000</td>\n",
       "    </tr>\n",
       "    <tr>\n",
       "      <th>mean</th>\n",
       "      <td>24.255380</td>\n",
       "      <td>1.701895</td>\n",
       "      <td>86.744968</td>\n",
       "      <td>2.410770</td>\n",
       "      <td>2.690876</td>\n",
       "      <td>1.141588</td>\n",
       "      <td>1.997869</td>\n",
       "      <td>1.006929</td>\n",
       "      <td>0.648405</td>\n",
       "      <td>0.729858</td>\n",
       "      <td>...</td>\n",
       "      <td>0.883886</td>\n",
       "      <td>0.978081</td>\n",
       "      <td>0.021919</td>\n",
       "      <td>0.953791</td>\n",
       "      <td>0.046209</td>\n",
       "      <td>0.218009</td>\n",
       "      <td>0.004147</td>\n",
       "      <td>0.005924</td>\n",
       "      <td>0.746445</td>\n",
       "      <td>0.025474</td>\n",
       "    </tr>\n",
       "    <tr>\n",
       "      <th>std</th>\n",
       "      <td>6.248963</td>\n",
       "      <td>0.093467</td>\n",
       "      <td>26.353318</td>\n",
       "      <td>0.532862</td>\n",
       "      <td>0.773669</td>\n",
       "      <td>0.472831</td>\n",
       "      <td>0.605259</td>\n",
       "      <td>0.835636</td>\n",
       "      <td>0.609942</td>\n",
       "      <td>0.511176</td>\n",
       "      <td>...</td>\n",
       "      <td>0.320456</td>\n",
       "      <td>0.146464</td>\n",
       "      <td>0.146464</td>\n",
       "      <td>0.209999</td>\n",
       "      <td>0.209999</td>\n",
       "      <td>0.413016</td>\n",
       "      <td>0.064282</td>\n",
       "      <td>0.076763</td>\n",
       "      <td>0.435174</td>\n",
       "      <td>0.157606</td>\n",
       "    </tr>\n",
       "    <tr>\n",
       "      <th>min</th>\n",
       "      <td>15.000000</td>\n",
       "      <td>1.450000</td>\n",
       "      <td>39.371523</td>\n",
       "      <td>1.000000</td>\n",
       "      <td>1.000000</td>\n",
       "      <td>0.000000</td>\n",
       "      <td>1.000000</td>\n",
       "      <td>0.000000</td>\n",
       "      <td>0.000000</td>\n",
       "      <td>0.000000</td>\n",
       "      <td>...</td>\n",
       "      <td>0.000000</td>\n",
       "      <td>0.000000</td>\n",
       "      <td>0.000000</td>\n",
       "      <td>0.000000</td>\n",
       "      <td>0.000000</td>\n",
       "      <td>0.000000</td>\n",
       "      <td>0.000000</td>\n",
       "      <td>0.000000</td>\n",
       "      <td>0.000000</td>\n",
       "      <td>0.000000</td>\n",
       "    </tr>\n",
       "    <tr>\n",
       "      <th>25%</th>\n",
       "      <td>19.993462</td>\n",
       "      <td>1.629479</td>\n",
       "      <td>65.055178</td>\n",
       "      <td>2.000000</td>\n",
       "      <td>2.669252</td>\n",
       "      <td>1.000000</td>\n",
       "      <td>1.591554</td>\n",
       "      <td>0.132315</td>\n",
       "      <td>0.000000</td>\n",
       "      <td>0.000000</td>\n",
       "      <td>...</td>\n",
       "      <td>1.000000</td>\n",
       "      <td>1.000000</td>\n",
       "      <td>0.000000</td>\n",
       "      <td>1.000000</td>\n",
       "      <td>0.000000</td>\n",
       "      <td>0.000000</td>\n",
       "      <td>0.000000</td>\n",
       "      <td>0.000000</td>\n",
       "      <td>0.000000</td>\n",
       "      <td>0.000000</td>\n",
       "    </tr>\n",
       "    <tr>\n",
       "      <th>50%</th>\n",
       "      <td>22.815036</td>\n",
       "      <td>1.701405</td>\n",
       "      <td>83.000000</td>\n",
       "      <td>2.341566</td>\n",
       "      <td>3.000000</td>\n",
       "      <td>1.000000</td>\n",
       "      <td>2.000000</td>\n",
       "      <td>1.000000</td>\n",
       "      <td>0.605497</td>\n",
       "      <td>1.000000</td>\n",
       "      <td>...</td>\n",
       "      <td>1.000000</td>\n",
       "      <td>1.000000</td>\n",
       "      <td>0.000000</td>\n",
       "      <td>1.000000</td>\n",
       "      <td>0.000000</td>\n",
       "      <td>0.000000</td>\n",
       "      <td>0.000000</td>\n",
       "      <td>0.000000</td>\n",
       "      <td>1.000000</td>\n",
       "      <td>0.000000</td>\n",
       "    </tr>\n",
       "    <tr>\n",
       "      <th>75%</th>\n",
       "      <td>26.000000</td>\n",
       "      <td>1.769950</td>\n",
       "      <td>108.744379</td>\n",
       "      <td>3.000000</td>\n",
       "      <td>3.000000</td>\n",
       "      <td>1.000000</td>\n",
       "      <td>2.435682</td>\n",
       "      <td>1.656291</td>\n",
       "      <td>1.000000</td>\n",
       "      <td>1.000000</td>\n",
       "      <td>...</td>\n",
       "      <td>1.000000</td>\n",
       "      <td>1.000000</td>\n",
       "      <td>0.000000</td>\n",
       "      <td>1.000000</td>\n",
       "      <td>0.000000</td>\n",
       "      <td>0.000000</td>\n",
       "      <td>0.000000</td>\n",
       "      <td>0.000000</td>\n",
       "      <td>1.000000</td>\n",
       "      <td>0.000000</td>\n",
       "    </tr>\n",
       "    <tr>\n",
       "      <th>max</th>\n",
       "      <td>56.000000</td>\n",
       "      <td>1.980000</td>\n",
       "      <td>165.057269</td>\n",
       "      <td>3.000000</td>\n",
       "      <td>4.000000</td>\n",
       "      <td>3.000000</td>\n",
       "      <td>3.000000</td>\n",
       "      <td>3.000000</td>\n",
       "      <td>2.000000</td>\n",
       "      <td>3.000000</td>\n",
       "      <td>...</td>\n",
       "      <td>1.000000</td>\n",
       "      <td>1.000000</td>\n",
       "      <td>1.000000</td>\n",
       "      <td>1.000000</td>\n",
       "      <td>1.000000</td>\n",
       "      <td>1.000000</td>\n",
       "      <td>1.000000</td>\n",
       "      <td>1.000000</td>\n",
       "      <td>1.000000</td>\n",
       "      <td>1.000000</td>\n",
       "    </tr>\n",
       "  </tbody>\n",
       "</table>\n",
       "<p>8 rows × 25 columns</p>\n",
       "</div>"
      ],
      "text/plain": [
       "               Age       Height       Weight         FCVC          NCP  \\\n",
       "count  1688.000000  1688.000000  1688.000000  1688.000000  1688.000000   \n",
       "mean     24.255380     1.701895    86.744968     2.410770     2.690876   \n",
       "std       6.248963     0.093467    26.353318     0.532862     0.773669   \n",
       "min      15.000000     1.450000    39.371523     1.000000     1.000000   \n",
       "25%      19.993462     1.629479    65.055178     2.000000     2.669252   \n",
       "50%      22.815036     1.701405    83.000000     2.341566     3.000000   \n",
       "75%      26.000000     1.769950   108.744379     3.000000     3.000000   \n",
       "max      56.000000     1.980000   165.057269     3.000000     4.000000   \n",
       "\n",
       "              CAEC         CH2O          FAF          TUE         CALC  ...  \\\n",
       "count  1688.000000  1688.000000  1688.000000  1688.000000  1688.000000  ...   \n",
       "mean      1.141588     1.997869     1.006929     0.648405     0.729858  ...   \n",
       "std       0.472831     0.605259     0.835636     0.609942     0.511176  ...   \n",
       "min       0.000000     1.000000     0.000000     0.000000     0.000000  ...   \n",
       "25%       1.000000     1.591554     0.132315     0.000000     0.000000  ...   \n",
       "50%       1.000000     2.000000     1.000000     0.605497     1.000000  ...   \n",
       "75%       1.000000     2.435682     1.656291     1.000000     1.000000  ...   \n",
       "max       3.000000     3.000000     3.000000     2.000000     3.000000  ...   \n",
       "\n",
       "          FAVC_yes     SMOKE_no    SMOKE_yes       SCC_no      SCC_yes  \\\n",
       "count  1688.000000  1688.000000  1688.000000  1688.000000  1688.000000   \n",
       "mean      0.883886     0.978081     0.021919     0.953791     0.046209   \n",
       "std       0.320456     0.146464     0.146464     0.209999     0.209999   \n",
       "min       0.000000     0.000000     0.000000     0.000000     0.000000   \n",
       "25%       1.000000     1.000000     0.000000     1.000000     0.000000   \n",
       "50%       1.000000     1.000000     0.000000     1.000000     0.000000   \n",
       "75%       1.000000     1.000000     0.000000     1.000000     0.000000   \n",
       "max       1.000000     1.000000     1.000000     1.000000     1.000000   \n",
       "\n",
       "       MTRANS_Automobile  MTRANS_Bike  MTRANS_Motorbike  \\\n",
       "count        1688.000000  1688.000000       1688.000000   \n",
       "mean            0.218009     0.004147          0.005924   \n",
       "std             0.413016     0.064282          0.076763   \n",
       "min             0.000000     0.000000          0.000000   \n",
       "25%             0.000000     0.000000          0.000000   \n",
       "50%             0.000000     0.000000          0.000000   \n",
       "75%             0.000000     0.000000          0.000000   \n",
       "max             1.000000     1.000000          1.000000   \n",
       "\n",
       "       MTRANS_Public_Transportation  MTRANS_Walking  \n",
       "count                   1688.000000     1688.000000  \n",
       "mean                       0.746445        0.025474  \n",
       "std                        0.435174        0.157606  \n",
       "min                        0.000000        0.000000  \n",
       "25%                        0.000000        0.000000  \n",
       "50%                        1.000000        0.000000  \n",
       "75%                        1.000000        0.000000  \n",
       "max                        1.000000        1.000000  \n",
       "\n",
       "[8 rows x 25 columns]"
      ]
     },
     "execution_count": 39,
     "metadata": {},
     "output_type": "execute_result"
    }
   ],
   "source": [
    "X_train.describe()\n"
   ]
  },
  {
   "cell_type": "code",
   "execution_count": 40,
   "id": "1f209c7a",
   "metadata": {},
   "outputs": [],
   "source": [
    "X_train_sc=sc.transform(X_train)\n",
    "X_test_sc=sc.transform(X_test)"
   ]
  },
  {
   "cell_type": "code",
   "execution_count": 41,
   "id": "ebcb3f5a",
   "metadata": {},
   "outputs": [
    {
     "data": {
      "text/plain": [
       "array([[-0.52110168, -0.89626904, -0.67425398, ..., -0.07719764,\n",
       "         0.58282291, -0.16167813],\n",
       "       [-0.68117566,  0.83589705, -0.71150522, ..., -0.07719764,\n",
       "         0.58282291, -0.16167813],\n",
       "       [-0.50107675,  0.7018953 , -1.15689576, ..., -0.07719764,\n",
       "         0.58282291, -0.16167813],\n",
       "       ...,\n",
       "       [ 1.15818619,  0.76655775,  1.27022562, ..., -0.07719764,\n",
       "        -1.71578706, -0.16167813],\n",
       "       [-0.52110168,  1.04994026, -0.52171957, ..., -0.07719764,\n",
       "         0.58282291, -0.16167813],\n",
       "       [-0.47532613,  0.26782637,  1.6925395 , ..., -0.07719764,\n",
       "         0.58282291, -0.16167813]])"
      ]
     },
     "execution_count": 41,
     "metadata": {},
     "output_type": "execute_result"
    }
   ],
   "source": [
    "X_train_sc"
   ]
  },
  {
   "cell_type": "code",
   "execution_count": 42,
   "id": "6b3a08c3",
   "metadata": {},
   "outputs": [],
   "source": [
    "X_train_sc=pd.DataFrame(X_train_sc,columns=['Age', 'Height', 'Weight',\n",
    "'FCVC', 'NCP', 'CAEC', 'CH2O', 'FAF', 'TUE',\n",
    "'CALC', 'Gender_Female', 'Gender_Male',\n",
    "'family_history_with_overweight_no',\n",
    "'family_history_with_overweight_yes', 'FAVC_no', 'FAVC_yes', 'SMOKE_no',\n",
    "'SMOKE_yes', 'SCC_no', 'SCC_yes', 'MTRANS_Automobile', 'MTRANS_Bike',\n",
    "'MTRANS_Motorbike', 'MTRANS_Public_Transportation', 'MTRANS_Walking'])\n"
   ]
  },
  {
   "cell_type": "code",
   "execution_count": 43,
   "id": "0a351b06",
   "metadata": {},
   "outputs": [],
   "source": [
    "X_test_sc=pd.DataFrame(X_test_sc,columns=['Age', 'Height', 'Weight', 'FCVC'\n",
    ", 'NCP', 'CAEC', 'CH2O', 'FAF', 'TUE',\n",
    "'CALC', 'Gender_Female', 'Gender_Male',\n",
    "'family_history_with_overweight_no',\n",
    "'family_history_with_overweight_yes', 'FAVC_no', 'FAVC_yes', 'SMOKE_no',\n",
    "'SMOKE_yes', 'SCC_no', 'SCC_yes', 'MTRANS_Automobile', 'MTRANS_Bike',\n",
    "'MTRANS_Motorbike', 'MTRANS_Public_Transportation', 'MTRANS_Walking'])\n"
   ]
  },
  {
   "cell_type": "code",
   "execution_count": 44,
   "id": "e322ccc7",
   "metadata": {},
   "outputs": [
    {
     "data": {
      "text/html": [
       "<div>\n",
       "<style scoped>\n",
       "    .dataframe tbody tr th:only-of-type {\n",
       "        vertical-align: middle;\n",
       "    }\n",
       "\n",
       "    .dataframe tbody tr th {\n",
       "        vertical-align: top;\n",
       "    }\n",
       "\n",
       "    .dataframe thead th {\n",
       "        text-align: right;\n",
       "    }\n",
       "</style>\n",
       "<table border=\"1\" class=\"dataframe\">\n",
       "  <thead>\n",
       "    <tr style=\"text-align: right;\">\n",
       "      <th></th>\n",
       "      <th>Age</th>\n",
       "      <th>Height</th>\n",
       "      <th>Weight</th>\n",
       "      <th>FCVC</th>\n",
       "      <th>NCP</th>\n",
       "      <th>CAEC</th>\n",
       "      <th>CH2O</th>\n",
       "      <th>FAF</th>\n",
       "      <th>TUE</th>\n",
       "      <th>CALC</th>\n",
       "      <th>...</th>\n",
       "      <th>FAVC_yes</th>\n",
       "      <th>SMOKE_no</th>\n",
       "      <th>SMOKE_yes</th>\n",
       "      <th>SCC_no</th>\n",
       "      <th>SCC_yes</th>\n",
       "      <th>MTRANS_Automobile</th>\n",
       "      <th>MTRANS_Bike</th>\n",
       "      <th>MTRANS_Motorbike</th>\n",
       "      <th>MTRANS_Public_Transportation</th>\n",
       "      <th>MTRANS_Walking</th>\n",
       "    </tr>\n",
       "  </thead>\n",
       "  <tbody>\n",
       "    <tr>\n",
       "      <th>0</th>\n",
       "      <td>-0.521102</td>\n",
       "      <td>-0.896269</td>\n",
       "      <td>-0.674254</td>\n",
       "      <td>-2.380875</td>\n",
       "      <td>0.399675</td>\n",
       "      <td>-2.415085</td>\n",
       "      <td>0.330309</td>\n",
       "      <td>-0.214777</td>\n",
       "      <td>-0.123865</td>\n",
       "      <td>0.528628</td>\n",
       "      <td>...</td>\n",
       "      <td>0.362446</td>\n",
       "      <td>0.149702</td>\n",
       "      <td>-0.149702</td>\n",
       "      <td>0.220107</td>\n",
       "      <td>-0.220107</td>\n",
       "      <td>-0.528004</td>\n",
       "      <td>-0.064531</td>\n",
       "      <td>-0.077198</td>\n",
       "      <td>0.582823</td>\n",
       "      <td>-0.161678</td>\n",
       "    </tr>\n",
       "    <tr>\n",
       "      <th>1</th>\n",
       "      <td>-0.681176</td>\n",
       "      <td>0.835897</td>\n",
       "      <td>-0.711505</td>\n",
       "      <td>-0.771104</td>\n",
       "      <td>-2.186177</td>\n",
       "      <td>1.816013</td>\n",
       "      <td>1.656198</td>\n",
       "      <td>1.188754</td>\n",
       "      <td>0.576610</td>\n",
       "      <td>-1.428224</td>\n",
       "      <td>...</td>\n",
       "      <td>-2.759030</td>\n",
       "      <td>0.149702</td>\n",
       "      <td>-0.149702</td>\n",
       "      <td>-4.543240</td>\n",
       "      <td>4.543240</td>\n",
       "      <td>-0.528004</td>\n",
       "      <td>-0.064531</td>\n",
       "      <td>-0.077198</td>\n",
       "      <td>0.582823</td>\n",
       "      <td>-0.161678</td>\n",
       "    </tr>\n",
       "    <tr>\n",
       "      <th>2</th>\n",
       "      <td>-0.501077</td>\n",
       "      <td>0.701895</td>\n",
       "      <td>-1.156896</td>\n",
       "      <td>-0.074023</td>\n",
       "      <td>1.691005</td>\n",
       "      <td>1.816013</td>\n",
       "      <td>0.438946</td>\n",
       "      <td>1.188754</td>\n",
       "      <td>0.320779</td>\n",
       "      <td>-1.428224</td>\n",
       "      <td>...</td>\n",
       "      <td>0.362446</td>\n",
       "      <td>0.149702</td>\n",
       "      <td>-0.149702</td>\n",
       "      <td>0.220107</td>\n",
       "      <td>-0.220107</td>\n",
       "      <td>-0.528004</td>\n",
       "      <td>-0.064531</td>\n",
       "      <td>-0.077198</td>\n",
       "      <td>0.582823</td>\n",
       "      <td>-0.161678</td>\n",
       "    </tr>\n",
       "    <tr>\n",
       "      <th>3</th>\n",
       "      <td>0.279268</td>\n",
       "      <td>-0.642617</td>\n",
       "      <td>0.946564</td>\n",
       "      <td>1.106110</td>\n",
       "      <td>0.399675</td>\n",
       "      <td>-0.299536</td>\n",
       "      <td>1.048432</td>\n",
       "      <td>-1.205341</td>\n",
       "      <td>-0.662883</td>\n",
       "      <td>0.528628</td>\n",
       "      <td>...</td>\n",
       "      <td>0.362446</td>\n",
       "      <td>0.149702</td>\n",
       "      <td>-0.149702</td>\n",
       "      <td>0.220107</td>\n",
       "      <td>-0.220107</td>\n",
       "      <td>-0.528004</td>\n",
       "      <td>-0.064531</td>\n",
       "      <td>-0.077198</td>\n",
       "      <td>0.582823</td>\n",
       "      <td>-0.161678</td>\n",
       "    </tr>\n",
       "    <tr>\n",
       "      <th>4</th>\n",
       "      <td>0.276405</td>\n",
       "      <td>-0.792779</td>\n",
       "      <td>0.709178</td>\n",
       "      <td>1.106110</td>\n",
       "      <td>0.399675</td>\n",
       "      <td>-0.299536</td>\n",
       "      <td>-0.854630</td>\n",
       "      <td>-1.087979</td>\n",
       "      <td>0.024742</td>\n",
       "      <td>0.528628</td>\n",
       "      <td>...</td>\n",
       "      <td>0.362446</td>\n",
       "      <td>0.149702</td>\n",
       "      <td>-0.149702</td>\n",
       "      <td>0.220107</td>\n",
       "      <td>-0.220107</td>\n",
       "      <td>-0.528004</td>\n",
       "      <td>-0.064531</td>\n",
       "      <td>-0.077198</td>\n",
       "      <td>0.582823</td>\n",
       "      <td>-0.161678</td>\n",
       "    </tr>\n",
       "  </tbody>\n",
       "</table>\n",
       "<p>5 rows × 25 columns</p>\n",
       "</div>"
      ],
      "text/plain": [
       "        Age    Height    Weight      FCVC       NCP      CAEC      CH2O  \\\n",
       "0 -0.521102 -0.896269 -0.674254 -2.380875  0.399675 -2.415085  0.330309   \n",
       "1 -0.681176  0.835897 -0.711505 -0.771104 -2.186177  1.816013  1.656198   \n",
       "2 -0.501077  0.701895 -1.156896 -0.074023  1.691005  1.816013  0.438946   \n",
       "3  0.279268 -0.642617  0.946564  1.106110  0.399675 -0.299536  1.048432   \n",
       "4  0.276405 -0.792779  0.709178  1.106110  0.399675 -0.299536 -0.854630   \n",
       "\n",
       "        FAF       TUE      CALC  ...  FAVC_yes  SMOKE_no  SMOKE_yes    SCC_no  \\\n",
       "0 -0.214777 -0.123865  0.528628  ...  0.362446  0.149702  -0.149702  0.220107   \n",
       "1  1.188754  0.576610 -1.428224  ... -2.759030  0.149702  -0.149702 -4.543240   \n",
       "2  1.188754  0.320779 -1.428224  ...  0.362446  0.149702  -0.149702  0.220107   \n",
       "3 -1.205341 -0.662883  0.528628  ...  0.362446  0.149702  -0.149702  0.220107   \n",
       "4 -1.087979  0.024742  0.528628  ...  0.362446  0.149702  -0.149702  0.220107   \n",
       "\n",
       "    SCC_yes  MTRANS_Automobile  MTRANS_Bike  MTRANS_Motorbike  \\\n",
       "0 -0.220107          -0.528004    -0.064531         -0.077198   \n",
       "1  4.543240          -0.528004    -0.064531         -0.077198   \n",
       "2 -0.220107          -0.528004    -0.064531         -0.077198   \n",
       "3 -0.220107          -0.528004    -0.064531         -0.077198   \n",
       "4 -0.220107          -0.528004    -0.064531         -0.077198   \n",
       "\n",
       "   MTRANS_Public_Transportation  MTRANS_Walking  \n",
       "0                      0.582823       -0.161678  \n",
       "1                      0.582823       -0.161678  \n",
       "2                      0.582823       -0.161678  \n",
       "3                      0.582823       -0.161678  \n",
       "4                      0.582823       -0.161678  \n",
       "\n",
       "[5 rows x 25 columns]"
      ]
     },
     "execution_count": 44,
     "metadata": {},
     "output_type": "execute_result"
    }
   ],
   "source": [
    "X_train_sc.head()"
   ]
  },
  {
   "cell_type": "markdown",
   "id": "8a654cc5",
   "metadata": {},
   "source": [
    "# Train Support Vector Classification Model"
   ]
  },
  {
   "cell_type": "code",
   "execution_count": 45,
   "id": "cd989b45",
   "metadata": {},
   "outputs": [],
   "source": [
    "from sklearn.svm import SVC"
   ]
  },
  {
   "cell_type": "code",
   "execution_count": 46,
   "id": "d9d50c2e",
   "metadata": {
    "scrolled": true
   },
   "outputs": [
    {
     "data": {
      "text/plain": [
       "SVC()"
      ]
     },
     "execution_count": 46,
     "metadata": {},
     "output_type": "execute_result"
    }
   ],
   "source": [
    "classification_rbf=SVC(kernel='rbf')\n",
    "classification_rbf.fit(X_train,y_train)"
   ]
  },
  {
   "cell_type": "code",
   "execution_count": 47,
   "id": "07d61848",
   "metadata": {
    "scrolled": true
   },
   "outputs": [
    {
     "data": {
      "text/plain": [
       "0.5366430260047281"
      ]
     },
     "execution_count": 47,
     "metadata": {},
     "output_type": "execute_result"
    }
   ],
   "source": [
    "classification_rbf.score(X_test,y_test)"
   ]
  },
  {
   "cell_type": "markdown",
   "id": "0a23e151",
   "metadata": {},
   "source": [
    "# SVC with kernel Polynomial"
   ]
  },
  {
   "cell_type": "code",
   "execution_count": 48,
   "id": "61e3d9f5",
   "metadata": {},
   "outputs": [
    {
     "data": {
      "text/plain": [
       "0.6335697399527187"
      ]
     },
     "execution_count": 48,
     "metadata": {},
     "output_type": "execute_result"
    }
   ],
   "source": [
    "classification_poly=SVC(kernel='poly',degree=2)\n",
    "classification_poly.fit(X_train,y_train)\n",
    "classification_poly.score(X_test,y_test)\n"
   ]
  },
  {
   "cell_type": "markdown",
   "id": "0a0338df",
   "metadata": {},
   "source": [
    "# SVC with Kernel Linear"
   ]
  },
  {
   "cell_type": "code",
   "execution_count": 49,
   "id": "5823f6d7",
   "metadata": {},
   "outputs": [
    {
     "data": {
      "text/plain": [
       "0.8936170212765957"
      ]
     },
     "execution_count": 49,
     "metadata": {},
     "output_type": "execute_result"
    }
   ],
   "source": [
    "classification_linear=SVC(kernel='linear')\n",
    "classification_linear.fit(X_train,y_train)\n",
    "classification_linear.score(X_test,y_test)"
   ]
  },
  {
   "cell_type": "code",
   "execution_count": 50,
   "id": "8fe495df",
   "metadata": {},
   "outputs": [
    {
     "name": "stdout",
     "output_type": "stream",
     "text": [
      "\n",
      "Classification report of Support Vector Machines Results:\n",
      "\n",
      "              precision    recall  f1-score   support\n",
      "\n",
      "           0       0.83      0.87      0.85        55\n",
      "           1       0.60      0.54      0.57        59\n",
      "           2       0.53      0.55      0.54        55\n",
      "           3       0.38      0.54      0.45        61\n",
      "           4       0.58      0.41      0.48        78\n",
      "           5       0.81      0.61      0.70        49\n",
      "           6       0.83      0.95      0.89        66\n",
      "\n",
      "    accuracy                           0.63       423\n",
      "   macro avg       0.65      0.64      0.64       423\n",
      "weighted avg       0.65      0.63      0.63       423\n",
      "\n",
      "Confusion Matrix result of support vector machines is:\n",
      " [[48  7  0  0  0  0  0]\n",
      " [10 32 13  4  0  0  0]\n",
      " [ 0  9 30 15  1  0  0]\n",
      " [ 0  5 13 33 10  0  0]\n",
      " [ 0  0  1 35 32  7  3]\n",
      " [ 0  0  0  0  9 30 10]\n",
      " [ 0  0  0  0  3  0 63]]\n",
      "\n"
     ]
    }
   ],
   "source": [
    "predicts = classification_poly.predict(X_test)\n",
    "print(\"\")\n",
    "print('Classification report of Support Vector Machines Results:')\n",
    "print(\"\")\n",
    "print(classification_report(y_test,predicts))\n",
    "cm1=confusion_matrix(y_test,predicts)\n",
    "print('Confusion Matrix result of support vector machines is:\\n', cm1)\n",
    "print(\"\")\n",
    "\n"
   ]
  },
  {
   "cell_type": "markdown",
   "id": "e4589b18",
   "metadata": {},
   "source": [
    "# Train Decision Tree Classification Model\n"
   ]
  },
  {
   "cell_type": "code",
   "execution_count": 51,
   "id": "801c673b",
   "metadata": {},
   "outputs": [],
   "source": [
    "from sklearn.tree import DecisionTreeClassifier"
   ]
  },
  {
   "cell_type": "code",
   "execution_count": 52,
   "id": "77bd4671",
   "metadata": {},
   "outputs": [
    {
     "data": {
      "text/plain": [
       "DecisionTreeClassifier()"
      ]
     },
     "execution_count": 52,
     "metadata": {},
     "output_type": "execute_result"
    }
   ],
   "source": [
    "classifier=DecisionTreeClassifier(criterion='gini')\n",
    "classifier.fit(X_train,y_train)\n"
   ]
  },
  {
   "cell_type": "code",
   "execution_count": 53,
   "id": "7aff02a5",
   "metadata": {},
   "outputs": [
    {
     "data": {
      "text/plain": [
       "0.933806146572104"
      ]
     },
     "execution_count": 53,
     "metadata": {},
     "output_type": "execute_result"
    }
   ],
   "source": [
    " classifier.score(X_test,y_test)"
   ]
  },
  {
   "cell_type": "code",
   "execution_count": 54,
   "id": "c0205985",
   "metadata": {},
   "outputs": [
    {
     "data": {
      "text/plain": [
       "0.9527186761229315"
      ]
     },
     "execution_count": 54,
     "metadata": {},
     "output_type": "execute_result"
    }
   ],
   "source": [
    "classifier_entropy=DecisionTreeClassifier(criterion='entropy')\n",
    "classifier_entropy.fit(X_train,y_train)\n",
    "classifier_entropy.score(X_test,y_test)"
   ]
  },
  {
   "cell_type": "code",
   "execution_count": 55,
   "id": "7ffb1ea7",
   "metadata": {},
   "outputs": [
    {
     "name": "stdout",
     "output_type": "stream",
     "text": [
      "\n",
      "Classification report of Decision Tree Classification Results:\n",
      "\n",
      "              precision    recall  f1-score   support\n",
      "\n",
      "           0       0.98      0.98      0.98        55\n",
      "           1       0.90      0.88      0.89        59\n",
      "           2       0.84      0.89      0.87        55\n",
      "           3       0.98      0.95      0.97        61\n",
      "           4       0.97      0.99      0.98        78\n",
      "           5       0.98      0.98      0.98        49\n",
      "           6       1.00      0.98      0.99        66\n",
      "\n",
      "    accuracy                           0.95       423\n",
      "   macro avg       0.95      0.95      0.95       423\n",
      "weighted avg       0.95      0.95      0.95       423\n",
      "\n",
      "Confusion Matrix result of Decision Tree Classification is:\n",
      " [[54  1  0  0  0  0  0]\n",
      " [ 1 52  6  0  0  0  0]\n",
      " [ 0  5 49  1  0  0  0]\n",
      " [ 0  0  3 58  0  0  0]\n",
      " [ 0  0  0  0 77  1  0]\n",
      " [ 0  0  0  0  1 48  0]\n",
      " [ 0  0  0  0  1  0 65]]\n",
      "\n"
     ]
    }
   ],
   "source": [
    "predicts = classifier_entropy.predict(X_test)\n",
    "print(\"\")\n",
    "print('Classification report of Decision Tree Classification Results:')\n",
    "print(\"\")\n",
    "print(classification_report(y_test,predicts))\n",
    "cm1=confusion_matrix(y_test,predicts)\n",
    "print('Confusion Matrix result of Decision Tree Classification is:\\n', cm1)\n",
    "print(\"\")"
   ]
  },
  {
   "cell_type": "markdown",
   "id": "fa0bacd4",
   "metadata": {},
   "source": [
    "# Train Random Forest Classification Model\n"
   ]
  },
  {
   "cell_type": "code",
   "execution_count": 56,
   "id": "f7b1b7e6",
   "metadata": {},
   "outputs": [],
   "source": [
    "from sklearn.ensemble import RandomForestClassifier\n"
   ]
  },
  {
   "cell_type": "code",
   "execution_count": 57,
   "id": "da7a7a17",
   "metadata": {},
   "outputs": [
    {
     "data": {
      "text/plain": [
       "RandomForestClassifier(n_estimators=5)"
      ]
     },
     "execution_count": 57,
     "metadata": {},
     "output_type": "execute_result"
    }
   ],
   "source": [
    " RFClassifier=RandomForestClassifier(n_estimators=5)\n",
    "RFClassifier.fit(X_train,y_train)"
   ]
  },
  {
   "cell_type": "code",
   "execution_count": 58,
   "id": "af049114",
   "metadata": {},
   "outputs": [
    {
     "data": {
      "text/plain": [
       "0.9125295508274232"
      ]
     },
     "execution_count": 58,
     "metadata": {},
     "output_type": "execute_result"
    }
   ],
   "source": [
    "RFClassifier.score(X_test,y_test)"
   ]
  },
  {
   "cell_type": "code",
   "execution_count": 59,
   "id": "4ac8be24",
   "metadata": {},
   "outputs": [
    {
     "name": "stdout",
     "output_type": "stream",
     "text": [
      "\n",
      "Classification report of Random Forest Classification Results:\n",
      "\n",
      "              precision    recall  f1-score   support\n",
      "\n",
      "           0       0.91      0.96      0.94        55\n",
      "           1       0.79      0.83      0.81        59\n",
      "           2       0.88      0.80      0.84        55\n",
      "           3       0.86      0.90      0.88        61\n",
      "           4       0.96      0.91      0.93        78\n",
      "           5       0.98      1.00      0.99        49\n",
      "           6       1.00      0.98      0.99        66\n",
      "\n",
      "    accuracy                           0.91       423\n",
      "   macro avg       0.91      0.91      0.91       423\n",
      "weighted avg       0.91      0.91      0.91       423\n",
      "\n",
      "Confusion Matrix result of Random Forest Classification is:\n",
      " [[53  1  0  1  0  0  0]\n",
      " [ 5 49  4  1  0  0  0]\n",
      " [ 0  7 44  3  1  0  0]\n",
      " [ 0  3  2 55  1  0  0]\n",
      " [ 0  2  0  4 71  1  0]\n",
      " [ 0  0  0  0  0 49  0]\n",
      " [ 0  0  0  0  1  0 65]]\n",
      "\n"
     ]
    }
   ],
   "source": [
    "predicts = RFClassifier.predict(X_test)\n",
    "print(\"\")\n",
    "print('Classification report of Random Forest Classification Results:')\n",
    "print(\"\")\n",
    "print(classification_report(y_test,predicts))\n",
    "cm1=confusion_matrix(y_test,predicts)\n",
    "print('Confusion Matrix result of Random Forest Classification is:\\n', cm1)\n",
    "print(\"\")"
   ]
  },
  {
   "cell_type": "markdown",
   "id": "3ac21331",
   "metadata": {},
   "source": [
    "# Train K Nearest neighbour Classification Model"
   ]
  },
  {
   "cell_type": "code",
   "execution_count": 60,
   "id": "eac0ed46",
   "metadata": {},
   "outputs": [],
   "source": [
    "from sklearn.neighbors import KNeighborsClassifier"
   ]
  },
  {
   "cell_type": "code",
   "execution_count": 61,
   "id": "126d9ea1",
   "metadata": {},
   "outputs": [
    {
     "data": {
      "text/plain": [
       "KNeighborsClassifier()"
      ]
     },
     "execution_count": 61,
     "metadata": {},
     "output_type": "execute_result"
    }
   ],
   "source": [
    "KNClassifier=KNeighborsClassifier(n_neighbors=5)\n",
    "KNClassifier.fit(X_train,y_train)"
   ]
  },
  {
   "cell_type": "code",
   "execution_count": 62,
   "id": "71bca4c3",
   "metadata": {},
   "outputs": [
    {
     "data": {
      "text/plain": [
       "0.8770685579196218"
      ]
     },
     "execution_count": 62,
     "metadata": {},
     "output_type": "execute_result"
    }
   ],
   "source": [
    "KNClassifier.score(X_test,y_test)"
   ]
  },
  {
   "cell_type": "code",
   "execution_count": 63,
   "id": "00ca6407",
   "metadata": {},
   "outputs": [
    {
     "name": "stdout",
     "output_type": "stream",
     "text": [
      "\n",
      "Classification report of K Nearest neighbour Classification Results:\n",
      "\n",
      "              precision    recall  f1-score   support\n",
      "\n",
      "           0       0.89      1.00      0.94        55\n",
      "           1       0.94      0.54      0.69        59\n",
      "           2       0.71      0.87      0.78        55\n",
      "           3       0.82      0.87      0.84        61\n",
      "           4       0.95      0.91      0.93        78\n",
      "           5       0.92      0.96      0.94        49\n",
      "           6       0.96      0.98      0.97        66\n",
      "\n",
      "    accuracy                           0.88       423\n",
      "   macro avg       0.88      0.88      0.87       423\n",
      "weighted avg       0.89      0.88      0.87       423\n",
      "\n",
      "Confusion Matrix result of K Nearest neighbour Classification is:\n",
      " [[55  0  0  0  0  0  0]\n",
      " [ 7 32 17  3  0  0  0]\n",
      " [ 0  1 48  6  0  0  0]\n",
      " [ 0  1  3 53  4  0  0]\n",
      " [ 0  0  0  3 71  3  1]\n",
      " [ 0  0  0  0  0 47  2]\n",
      " [ 0  0  0  0  0  1 65]]\n",
      "\n"
     ]
    }
   ],
   "source": [
    "predicts = KNClassifier.predict(X_test)\n",
    "print(\"\")\n",
    "print('Classification report of K Nearest neighbour Classification Results:')\n",
    "print(\"\")\n",
    "print(classification_report(y_test,predicts))\n",
    "accuracy = cross_val_score(KNClassifier,X,y,cv=50)\n",
    "cm1=confusion_matrix(y_test,predicts)\n",
    "print('Confusion Matrix result of K Nearest neighbour Classification is:\\n', cm1)\n",
    "print(\"\")"
   ]
  },
  {
   "cell_type": "markdown",
   "id": "71260e2d",
   "metadata": {},
   "source": [
    "# Train Naive Bayes Classifier Model"
   ]
  },
  {
   "cell_type": "code",
   "execution_count": 64,
   "id": "0aca3cfe",
   "metadata": {},
   "outputs": [],
   "source": [
    "from sklearn.naive_bayes import GaussianNB"
   ]
  },
  {
   "cell_type": "code",
   "execution_count": 65,
   "id": "ec5f2a98",
   "metadata": {},
   "outputs": [
    {
     "data": {
      "text/plain": [
       "GaussianNB()"
      ]
     },
     "execution_count": 65,
     "metadata": {},
     "output_type": "execute_result"
    }
   ],
   "source": [
    "GNB=GaussianNB()\n",
    "GNB.fit(X_train,y_train)"
   ]
  },
  {
   "cell_type": "code",
   "execution_count": 66,
   "id": "849c8166",
   "metadata": {},
   "outputs": [
    {
     "data": {
      "text/plain": [
       "0.5602836879432624"
      ]
     },
     "execution_count": 66,
     "metadata": {},
     "output_type": "execute_result"
    }
   ],
   "source": [
    "GNB.score(X_test,y_test)"
   ]
  },
  {
   "cell_type": "code",
   "execution_count": 67,
   "id": "84182bb1",
   "metadata": {},
   "outputs": [],
   "source": [
    "from sklearn.naive_bayes import BernoulliNB"
   ]
  },
  {
   "cell_type": "code",
   "execution_count": 68,
   "id": "d444fa45",
   "metadata": {},
   "outputs": [
    {
     "data": {
      "text/plain": [
       "BernoulliNB()"
      ]
     },
     "execution_count": 68,
     "metadata": {},
     "output_type": "execute_result"
    }
   ],
   "source": [
    "BNB=BernoulliNB()\n",
    "BNB.fit(X_train,y_train)"
   ]
  },
  {
   "cell_type": "code",
   "execution_count": 69,
   "id": "b4742dd6",
   "metadata": {},
   "outputs": [
    {
     "data": {
      "text/plain": [
       "0.4994075829383886"
      ]
     },
     "execution_count": 69,
     "metadata": {},
     "output_type": "execute_result"
    }
   ],
   "source": [
    "BNB.score(X_train,y_train)"
   ]
  },
  {
   "cell_type": "code",
   "execution_count": 70,
   "id": "162aa1f0",
   "metadata": {},
   "outputs": [],
   "source": [
    "from sklearn.naive_bayes import MultinomialNB"
   ]
  },
  {
   "cell_type": "code",
   "execution_count": 71,
   "id": "d29ab252",
   "metadata": {},
   "outputs": [
    {
     "data": {
      "text/plain": [
       "MultinomialNB()"
      ]
     },
     "execution_count": 71,
     "metadata": {},
     "output_type": "execute_result"
    }
   ],
   "source": [
    "MNB=MultinomialNB()\n",
    "MNB.fit(X_train,y_train)\n"
   ]
  },
  {
   "cell_type": "code",
   "execution_count": 72,
   "id": "a84840c3",
   "metadata": {},
   "outputs": [
    {
     "data": {
      "text/plain": [
       "0.5930094786729858"
      ]
     },
     "execution_count": 72,
     "metadata": {},
     "output_type": "execute_result"
    }
   ],
   "source": [
    "MNB.score(X_train,y_train)\n"
   ]
  },
  {
   "cell_type": "code",
   "execution_count": 73,
   "id": "df9e8530",
   "metadata": {},
   "outputs": [
    {
     "name": "stdout",
     "output_type": "stream",
     "text": [
      "\n",
      "Classification report of Naive Bayes Classifier Results:\n",
      "\n",
      "              precision    recall  f1-score   support\n",
      "\n",
      "           0       0.76      0.82      0.79        55\n",
      "           1       0.57      0.44      0.50        59\n",
      "           2       0.44      0.33      0.37        55\n",
      "           3       0.41      0.46      0.43        61\n",
      "           4       0.50      0.29      0.37        78\n",
      "           5       0.56      0.98      0.72        49\n",
      "           6       0.83      0.97      0.90        66\n",
      "\n",
      "    accuracy                           0.60       423\n",
      "   macro avg       0.58      0.61      0.58       423\n",
      "weighted avg       0.58      0.60      0.57       423\n",
      "\n",
      "Confusion Matrix result of Naive Bayes Classifier is:\n",
      " [[45  2  7  1  0  0  0]\n",
      " [13 26 12  8  0  0  0]\n",
      " [ 1  9 18 13  8  4  2]\n",
      " [ 0  9  2 28 14  8  0]\n",
      " [ 0  0  2 18 23 24 11]\n",
      " [ 0  0  0  1  0 48  0]\n",
      " [ 0  0  0  0  1  1 64]]\n",
      "\n"
     ]
    }
   ],
   "source": [
    "predicts = MNB.predict(X_test)\n",
    "print(\"\")\n",
    "print('Classification report of Naive Bayes Classifier Results:')\n",
    "print(\"\")\n",
    "print(classification_report(y_test,predicts))\n",
    "cm1=confusion_matrix(y_test,predicts)\n",
    "print('Confusion Matrix result of Naive Bayes Classifier is:\\n', cm1)\n",
    "print(\"\")"
   ]
  },
  {
   "cell_type": "markdown",
   "id": "3624e774",
   "metadata": {},
   "source": [
    "# SVC With kernel linear"
   ]
  },
  {
   "cell_type": "code",
   "execution_count": 74,
   "id": "01748eb0",
   "metadata": {},
   "outputs": [
    {
     "name": "stdout",
     "output_type": "stream",
     "text": [
      "SVC: 89.36 %\n"
     ]
    }
   ],
   "source": [
    "classification_linear=SVC(kernel='linear')\n",
    "classification_linear.fit(X_train,y_train)\n",
    "SVC_acc = classification_linear.score(X_test,y_test)\n",
    "print(\"SVC:\", 100*round(SVC_acc, 4), '%')"
   ]
  },
  {
   "cell_type": "markdown",
   "id": "f8998398",
   "metadata": {},
   "source": [
    "# Train Decision Tree Classification Model\n"
   ]
  },
  {
   "cell_type": "code",
   "execution_count": 75,
   "id": "53e2ad67",
   "metadata": {},
   "outputs": [
    {
     "name": "stdout",
     "output_type": "stream",
     "text": [
      "Decision Tree: 95.27186761229315 %\n"
     ]
    }
   ],
   "source": [
    "classifier_entropy=DecisionTreeClassifier(criterion='entropy')\n",
    "classifier_entropy.fit(X_train,y_train)\n",
    "print(\"Decision Tree:\",classifier_entropy.score(X_test,y_test)*100,'%')"
   ]
  },
  {
   "cell_type": "code",
   "execution_count": 76,
   "id": "79d1cbfe",
   "metadata": {},
   "outputs": [
    {
     "name": "stdout",
     "output_type": "stream",
     "text": [
      "Random Forest: 91.25295508274232 %\n"
     ]
    }
   ],
   "source": [
    "print(\"Random Forest:\",RFClassifier.score(X_test,y_test)*100,'%')"
   ]
  },
  {
   "cell_type": "code",
   "execution_count": 77,
   "id": "1805e3c6",
   "metadata": {},
   "outputs": [
    {
     "name": "stdout",
     "output_type": "stream",
     "text": [
      "KNN: 87.70685579196218 %\n"
     ]
    }
   ],
   "source": [
    "print(\"KNN:\",KNClassifier.score(X_test,y_test)*100,'%')"
   ]
  },
  {
   "cell_type": "code",
   "execution_count": 78,
   "id": "a6f08574",
   "metadata": {},
   "outputs": [
    {
     "name": "stdout",
     "output_type": "stream",
     "text": [
      "Naive Bayes: 59.30094786729858 %\n"
     ]
    }
   ],
   "source": [
    "print(\"Naive Bayes:\",MNB.score(X_train,y_train)*100,'%')"
   ]
  },
  {
   "cell_type": "code",
   "execution_count": 79,
   "id": "d7d9e658",
   "metadata": {},
   "outputs": [
    {
     "data": {
      "image/png": "[encoded data removed]",
      "text/plain": [
       "<Figure size 1152x576 with 1 Axes>"
      ]
     },
     "metadata": {
      "needs_background": "light"
     },
     "output_type": "display_data"
    }
   ],
   "source": [
    "import matplotlib.pyplot as plt\n",
    "plt.figure(figsize=(16,8))\n",
    "plt.title('Model & its Accuracy Plot')\n",
    "plt.bar(\"Decision Tree:\",classifier_entropy.score(X_test,y_test)*100)\n",
    "plt.bar(\"Random Forest:\",RFClassifier.score(X_test,y_test)*100)\n",
    "plt.bar(\"KNN:\",KNClassifier.score(X_test,y_test)*100)\n",
    "plt.bar(\"Naive Bayes:\",MNB.score(X_train,y_train)*100)\n",
    "plt.bar(\"SVC:\", classification_linear.score(X_test,y_test)*100)\n",
    "\n",
    "plt.grid()\n",
    "plt.show()"
   ]
  },
  {
   "cell_type": "code",
   "execution_count": null,
   "id": "da3fdd3c",
   "metadata": {},
   "outputs": [],
   "source": []
  }
 ],
 "metadata": {
  "kernelspec": {
   "display_name": "Python 3",
   "language": "python",
   "name": "python3"
  },
  "language_info": {
   "codemirror_mode": {
    "name": "ipython",
    "version": 3
   },
   "file_extension": ".py",
   "mimetype": "text/x-python",
   "name": "python",
   "nbconvert_exporter": "python",
   "pygments_lexer": "ipython3",
   "version": "3.8.8"
  }
 },
 "nbformat": 4,
 "nbformat_minor": 5
}
